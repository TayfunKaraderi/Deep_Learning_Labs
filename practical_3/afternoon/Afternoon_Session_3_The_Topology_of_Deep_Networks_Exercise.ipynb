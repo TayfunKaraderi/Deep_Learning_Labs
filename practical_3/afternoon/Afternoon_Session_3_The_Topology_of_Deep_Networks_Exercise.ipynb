{
 "cells": [
  {
   "cell_type": "code",
   "execution_count": 1,
   "metadata": {},
   "outputs": [
    {
     "name": "stdout",
     "output_type": "stream",
     "text": [
      "Populating the interactive namespace from numpy and matplotlib\n"
     ]
    }
   ],
   "source": [
    "#Import the standard pylab libraries, matplotlib.pyplot as plt , numpy as np\n",
    "%pylab inline"
   ]
  },
  {
   "cell_type": "markdown",
   "metadata": {},
   "source": [
    "# The Topology of (Deep) Neural Networks\n",
    "\n",
    "In this exercise you will have to read and implement parts of the blog post by [Chris Olah](https://ai.google/research/people/ChristopherOlah) on the topology of neural networks.\n",
    "\n",
    "The first step will require you to read the blog post [here](http://colah.github.io/posts/2014-03-NN-Manifolds-Topology/).  \n",
    "We have prepared a similar dataset to the one that Chris uses in his first example (the two cosines-dataset) and you may should use the provided functions to generate a dataset for you.\n",
    "\n",
    "You will then be required to perform the following tasks:\n",
    "\n",
    "- Read Chris's Blog Post [link](http://colah.github.io/posts/2014-03-NN-Manifolds)\n",
    "- Implement a Neural Network that allows you to visualize the topology of the hidden layers in Pytorch\n",
    "    - Specifically plot the layer activations in a 2D-graph showing the decision boundary and the transformed input data. Here is an example of what such a plot could look like. Note that this is for the input space of the neural network: ![Network Classification](figure1.png)\n",
    "        Here's a few steps that you may want to make sure you've implemented along the way.  \n",
    "        You may use all of Pytorch's functionality as you wish:\n",
    "            - A method to make your experiment reproducible, setting the random seeds\n",
    "            - A Pytorch Neural Network with Linear Layers and an appropriate activation function\n",
    "            - An objective function to perform the classification task used to train the network\n",
    "            - Creating a set of dataloaders to handle your data during training and evaluation\n",
    "            - A train method: to perform a single epoch of training given a model and an optimizer\n",
    "            - An evaluation method: to perform evaluation on a dataset without the need to compute gradients\n",
    "            - A plotting routine to highlight to obtain the visualizations of the activation values\n",
    "- Create an animation of the evolution of the underlying activations as a function of training iterations\n",
    "    - As an example this could be done by creating a GIF where each image in the GIF corresponds to the output plots for the current epoch of training\n",
    "- Use comments as much as you can throughout the provided jupyter notebook to document your thought and creation process\n",
    "- Answer the following questions (use graphs where appropriate to support your findings):\n",
    "    - Describe in your own words the \"Mannifold Hypothesis\"\n",
    "    - For the given two-sinusoids dataset how many hidden-layers do we theoretically need to classify the data?\n",
    "    - How many neurons should such layer(s) have at least? Why?\n",
    "    - What do you think the impact will be for large high-dimensional datasets such as images?\n",
    "- Try this approach with more layers and other datasets, produce one additional graph of such an experimentation."
   ]
  },
  {
   "cell_type": "markdown",
   "metadata": {},
   "source": [
    "## Generating the dataset\n",
    "\n",
    "The following functions are a reference implementation of a function that is similar to the one presented in Chris Olah's blog post.  \n",
    "Two sinusoids stacked on top of each other, not linear seperable in the x-y plane.  \n",
    "I also provide a method to create a mesh of grid points.  "
   ]
  },
  {
   "cell_type": "code",
   "execution_count": 2,
   "metadata": {},
   "outputs": [
    {
     "name": "stderr",
     "output_type": "stream",
     "text": [
      "/home/lm715/anaconda2/envs/dlenv/lib/python3.6/site-packages/ipykernel/__main__.py:21: FutureWarning: arrays to stack must be passed as a \"sequence\" type such as list or tuple. Support for non-sequence iterables such as generators is deprecated as of NumPy 1.16 and will raise an error in the future.\n"
     ]
    }
   ],
   "source": [
    "def make_dataset(n_points, squash=2.5, spacing=0.3):\n",
    "    x = np.linspace(-1, 1, n_points) #Define a x-axis values and number of points\n",
    "    r = x*np.pi #convert this to a radial representation\n",
    "    \n",
    "    upper = np.sin(r-np.pi/2.)/squash+spacing #upper curve\n",
    "    lower = np.sin(r-np.pi/2.)/squash-spacing #lower curve\n",
    "    \n",
    "    y_coords = np.hstack([upper, lower]) #stack the y-coordinates for each curve\n",
    "    x_coords = np.hstack([x, x]) #stack the x-coordinates twice\n",
    "    \n",
    "    coordinates = np.vstack([x_coords, y_coords]).T #create a single set of coordinates for both curves\n",
    "    \n",
    "    labels = np.ones((2*n_points, 1)) #create a set of labels, first half = 1\n",
    "    labels[n_points:] = 0\n",
    "    \n",
    "    return x, upper, lower, coordinates, labels\n",
    "\n",
    "def make_grid(n_points):\n",
    "    x = np.linspace(-1, 1, n_points) #Define a x-axis values and number of points\n",
    "    g = np.meshgrid(x, x) #Create a mesh of points from the x-values\n",
    "    grid_locations = np.vstack(map(np.ravel, g)).T #Turn into a set of pairs of points\n",
    "    return grid_locations\n",
    "\n",
    "n_train, n_test = 100, 100\n",
    "x_coords_train, upper_coords_train, lower_coords_train, X_train, y_train = make_dataset(n_train)\n",
    "grid_locations = make_grid(n_test)"
   ]
  },
  {
   "cell_type": "markdown",
   "metadata": {},
   "source": [
    "## Plotting the dataset\n",
    "\n",
    "Let's just plot the data first to see what this looks like."
   ]
  },
  {
   "cell_type": "code",
   "execution_count": 3,
   "metadata": {},
   "outputs": [
    {
     "data": {
      "text/plain": [
       "(-1, 1)"
      ]
     },
     "execution_count": 3,
     "metadata": {},
     "output_type": "execute_result"
    },
    {
     "data": {
      "image/png": "[encoded data removed]",
      "text/plain": [
       "<Figure size 432x432 with 1 Axes>"
      ]
     },
     "metadata": {
      "needs_background": "light"
     },
     "output_type": "display_data"
    }
   ],
   "source": [
    "fig, ax = plt.subplots(1, 1, figsize=(6, 6))\n",
    "ax.plot(x_coords_train, upper_coords_train)\n",
    "ax.plot(x_coords_train, lower_coords_train)\n",
    "ax.set_xlim(-1, 1)\n",
    "ax.set_ylim(-1, 1)"
   ]
  },
  {
   "cell_type": "markdown",
   "metadata": {},
   "source": [
    "## Defining the neural network\n",
    "\n",
    "We create a multi-layer neural network where each layer has 2 units.  \n",
    "This allows us to simply obtain a the activations at each layer e.g. $a_1=\\tanh{(W_1X+b_1)}$.  \n",
    "For each forward pass we will return the final output as well as the pre-activation values $z_i$ and activations $a_i$.  \n",
    "Since we use ```nn.BCEWithLogitsLoss()``` we do not need a sigmoid activation on the output.  \n",
    "The final layer outputs correspond to the logits."
   ]
  },
  {
   "cell_type": "code",
   "execution_count": 4,
   "metadata": {},
   "outputs": [],
   "source": [
    "import torch #import torch to create Tensors\n",
    "import torch.nn as nn #import all of pytorch's neural network functions\n",
    "from torch.optim import SGD #we'll use SGD as an optimizer\n",
    "from torch.utils.data import TensorDataset, DataLoader #some simple handlers for datasets as Tensors\n",
    "import torch.nn.functional as F #Also make use of the functional utility of torch.nn\n",
    "\n",
    "from tqdm import tqdm_notebook as tqdm #Just a fancy progress bar\n",
    "\n",
    "class OlahNet(nn.Module): #We define this neural network as a nn.Module\n",
    "    def __init__(self):\n",
    "        \"\"\"\n",
    "        A neural network where every layer has two units i.e. two weights that we can visualize\n",
    "        We don't visualize the biases here because we only plot the post-activation values \n",
    "        these will be in a range of -1, 1 due to the hyperbolic activation function.\n",
    "        \"\"\"\n",
    "        super(OlahNet, self).__init__() #Need to initialise our nn.Module and all its parent objects\n",
    "        \n",
    "        #Define a few layers, this problem needs at least one layer with 2 units\n",
    "        #This network has 2 layers - one hidden and one output layer\n",
    "        #Hidden Layer 1\n",
    "        #Output Layer\n",
    "        #Activation function\n",
    "        \n",
    "    def forward(self, x):\n",
    "        \n",
    "        #Forward pass through hidden layer 1\n",
    "        z1 = self.layer1(x) #Affine Transformation W_1*x+b_1\n",
    "        a1 = self.activation(z1) #Activation function applied to z_1\n",
    "        \n",
    "        #Forward pass through output layer\n",
    "        logits = self.logits(a1) #Compute the logits W_2*a_1+b_2\n",
    "        return logits, a1 #Returns logits, activations hidden layer 1"
   ]
  },
  {
   "cell_type": "code",
   "execution_count": 5,
   "metadata": {},
   "outputs": [],
   "source": [
    "def train(model, loader, optimizer):\n",
    "    \"\"\"\n",
    "    Training iteration across one epoch\n",
    "    \"\"\"\n",
    "    #Set the model to 'train' mode\n",
    "    #Define a criterion in this case the binary-cross-entropy with logits\n",
    "    \n",
    "    #running variable for the total loss\n",
    "    #iterate over the batches in our training data\n",
    "        #Forward Pass the inputs\n",
    "        #compute the BCE loss\n",
    "        #set out all the gradients to zero in the neural net\n",
    "        #compute the backward pass\n",
    "        #make a gradient descent step\n",
    "        #add the current batchwise loss to the running loss over one epoch\n",
    "    return epoch_loss/len(loader.dataset) #return the average loss per dataset element\n",
    "\n",
    "def evaluate(model, X):\n",
    "    \"\"\"\n",
    "    Evaluation function for the network provided a Tensor object\n",
    "    \"\"\"\n",
    "    #Set our network to evaluation mode\n",
    "    with torch.no_grad(): #Specify that we don't need any gradients be computed i.e. make inference fast\n",
    "        #Forward pass our Tensor\n",
    "    return logits, a1 #Return the logits and activation values\n",
    "\n",
    "def fit_model(model, loader, epochs=100):\n",
    "    \"\"\"\n",
    "    Fit our neural network (model) to the training data provided (loader)\n",
    "    \"\"\"\n",
    "    #Instantiate a SGD optimizer\n",
    "    #Store the losses in a list\n",
    "    for epoch in tqdm(range(epochs)): #Fancy progress bar over the number of epochs\n",
    "        \n",
    "        #Perform one training iteration\n",
    "        #Store the loss for this epoch\n",
    "        \n",
    "    return losses #return the list of losses"
   ]
  },
  {
   "cell_type": "markdown",
   "metadata": {},
   "source": [
    "## Set the seeds, instantiate and train the network"
   ]
  },
  {
   "cell_type": "code",
   "execution_count": 6,
   "metadata": {},
   "outputs": [
    {
     "data": {
      "application/vnd.jupyter.widget-view+json": {
       "model_id": "3f66e77679b84aec8d1cbdbd3e2b9a84",
       "version_major": 2,
       "version_minor": 0
      },
      "text/plain": [
       "HBox(children=(IntProgress(value=0, max=50), HTML(value='')))"
      ]
     },
     "metadata": {},
     "output_type": "display_data"
    },
    {
     "name": "stdout",
     "output_type": "stream",
     "text": [
      "\n"
     ]
    }
   ],
   "source": [
    "set_seed(42) #Setting the seed to the only \"true\" seed\n",
    "model = OlahNet() #Instantiate our neural network\n",
    "\n",
    "train_dataset = TensorDataset(torch.Tensor(X_train), torch.Tensor(y_train)) #Create a pytorch TensorDataset\n",
    "train_loader = DataLoader(train_dataset, shuffle=True, batch_size=32) #Create a dataloader that handles batching\n",
    "\n",
    "losses = fit_model(model, train_loader, epochs=50) #Fit our model for 50 epochs i.e. full passes through data\n",
    "\n",
    "#evaluate our model on the training data\n",
    "logits_train, a1_train = evaluate(model, torch.Tensor(X_train))\n",
    "\n",
    "#evaluate our model on the grid locations\n",
    "logits_grid, a1_grid = evaluate(model, torch.Tensor(grid_locations))"
   ]
  },
  {
   "cell_type": "markdown",
   "metadata": {},
   "source": [
    "## Plot the outputs of the intermediate activations of hidden layer 1"
   ]
  },
  {
   "cell_type": "code",
   "execution_count": null,
   "metadata": {},
   "outputs": [],
   "source": []
  },
  {
   "cell_type": "markdown",
   "metadata": {},
   "source": [
    "## Creating an animation of the learning process and the intermediate activations"
   ]
  },
  {
   "cell_type": "code",
   "execution_count": null,
   "metadata": {
    "scrolled": false
   },
   "outputs": [],
   "source": []
  }
 ],
 "metadata": {
  "kernelspec": {
   "display_name": "Python [conda env:dlenv]",
   "language": "python",
   "name": "conda-env-dlenv-py"
  },
  "language_info": {
   "codemirror_mode": {
    "name": "ipython",
    "version": 3
   },
   "file_extension": ".py",
   "mimetype": "text/x-python",
   "name": "python",
   "nbconvert_exporter": "python",
   "pygments_lexer": "ipython3",
   "version": "3.6.5"
  }
 },
 "nbformat": 4,
 "nbformat_minor": 2
}

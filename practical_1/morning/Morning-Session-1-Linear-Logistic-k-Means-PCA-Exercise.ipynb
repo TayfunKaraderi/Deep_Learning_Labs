{
 "cells": [
  {
   "cell_type": "code",
   "execution_count": 3,
   "metadata": {},
   "outputs": [
    {
     "name": "stdout",
     "output_type": "stream",
     "text": [
      "Populating the interactive namespace from numpy and matplotlib\n"
     ]
    }
   ],
   "source": [
    "%pylab inline\n",
    "import pandas as pd"
   ]
  },
  {
   "cell_type": "code",
   "execution_count": 4,
   "metadata": {},
   "outputs": [],
   "source": [
    "#Only from Colab\n",
    "#from google.colab import drive\n",
    "#drive.mount('/content/gdrive/')"
   ]
  },
  {
   "cell_type": "markdown",
   "metadata": {
    "slideshow": {
     "slide_type": "slide"
    }
   },
   "source": [
    "# ACSE Module 8 - Practical - Morning Session 1:\n",
    "----\n",
    "# Linear Regression, Logistic Regression, k-Means, PCA"
   ]
  },
  {
   "cell_type": "markdown",
   "metadata": {
    "slideshow": {
     "slide_type": "slide"
    }
   },
   "source": [
    "## Task 1: Candy Evaluation Dataset - Linear Regression\n",
    "\n",
    "You work at a large marketing company and one of your clients is thinking about producing a new candy-bar.  \n",
    "They would like to figure out which ingredients contribute most to the overall popularity of a candy bar to guide their food-experts.  \n",
    "To do so they've performed a study of how popular each brand of candy-bar is by asking people to choose 1 out of three bars.  \n",
    "The popularity is measured in ```winpercent``` how often a specific candy bar was chosen as the winner of three.  \n",
    "They've sent you the dataset, try to answer the following questions:  \n",
    "- How many candy-bars were evaluated?\n",
    "- How many features / columns of data do you have per candy-bar?\n",
    "- How many of these are likely to be ingredients?\n",
    "- Are there any datapoints that seem odd to you? If yes, drop them.\n",
    "- Give a ranked list of candy bars with respect to ```winpercent```\n",
    "- Give a ranked list of ingredients (top occurences to lowest occurence)\n",
    "- Create a pearson correlation matrix\n",
    "- Choose a model to represent the relationship between ingredients and ```winpercent```\n",
    "- The client wants to know the most important ingredient. What recommendation do you give him?\n",
    "- What's the most-likely winpercent of a franken-bar (contains all ingredients)?\n",
    "- Is this reasonable?"
   ]
  },
  {
   "cell_type": "markdown",
   "metadata": {
    "slideshow": {
     "slide_type": "slide"
    }
   },
   "source": [
    "### 1.1 Loading the data\n",
    "The following link contains a GDrive of the data used for this exercise.\n",
    "Make it available in your drive.\n",
    "\n",
    "[ACSE-Data](https://drive.google.com/drive/folders/1ykkRE0I-BFtbk1IfskiG0oOOQ2nd83n4?usp=sharing)"
   ]
  },
  {
   "cell_type": "code",
   "execution_count": 5,
   "metadata": {
    "slideshow": {
     "slide_type": "subslide"
    }
   },
   "outputs": [],
   "source": [
    "#Locally\n",
    "data = pd.read_csv(\"./candy_data.csv\", index_col=\"competitorname\")\n",
    "\n",
    "#From Colab\n",
    "#data = pd.read_csv(F\"/content/gdrive/My Drive/acse-data/candy_data.csv\", index_col=\"competitorname\")"
   ]
  },
  {
   "cell_type": "code",
   "execution_count": 6,
   "metadata": {
    "slideshow": {
     "slide_type": "subslide"
    }
   },
   "outputs": [
    {
     "data": {
      "text/html": [
       "<div>\n",
       "<style scoped>\n",
       "    .dataframe tbody tr th:only-of-type {\n",
       "        vertical-align: middle;\n",
       "    }\n",
       "\n",
       "    .dataframe tbody tr th {\n",
       "        vertical-align: top;\n",
       "    }\n",
       "\n",
       "    .dataframe thead th {\n",
       "        text-align: right;\n",
       "    }\n",
       "</style>\n",
       "<table border=\"1\" class=\"dataframe\">\n",
       "  <thead>\n",
       "    <tr style=\"text-align: right;\">\n",
       "      <th></th>\n",
       "      <th>chocolate</th>\n",
       "      <th>fruity</th>\n",
       "      <th>caramel</th>\n",
       "      <th>peanutyalmondy</th>\n",
       "      <th>nougat</th>\n",
       "      <th>crispedricewafer</th>\n",
       "      <th>hard</th>\n",
       "      <th>bar</th>\n",
       "      <th>pluribus</th>\n",
       "      <th>sugarpercent</th>\n",
       "      <th>pricepercent</th>\n",
       "      <th>winpercent</th>\n",
       "    </tr>\n",
       "    <tr>\n",
       "      <th>competitorname</th>\n",
       "      <th></th>\n",
       "      <th></th>\n",
       "      <th></th>\n",
       "      <th></th>\n",
       "      <th></th>\n",
       "      <th></th>\n",
       "      <th></th>\n",
       "      <th></th>\n",
       "      <th></th>\n",
       "      <th></th>\n",
       "      <th></th>\n",
       "      <th></th>\n",
       "    </tr>\n",
       "  </thead>\n",
       "  <tbody>\n",
       "    <tr>\n",
       "      <th>100 Grand</th>\n",
       "      <td>1</td>\n",
       "      <td>0</td>\n",
       "      <td>1</td>\n",
       "      <td>0</td>\n",
       "      <td>0</td>\n",
       "      <td>1</td>\n",
       "      <td>0</td>\n",
       "      <td>1</td>\n",
       "      <td>0</td>\n",
       "      <td>0.732</td>\n",
       "      <td>0.860</td>\n",
       "      <td>66.971725</td>\n",
       "    </tr>\n",
       "    <tr>\n",
       "      <th>3 Musketeers</th>\n",
       "      <td>1</td>\n",
       "      <td>0</td>\n",
       "      <td>0</td>\n",
       "      <td>0</td>\n",
       "      <td>1</td>\n",
       "      <td>0</td>\n",
       "      <td>0</td>\n",
       "      <td>1</td>\n",
       "      <td>0</td>\n",
       "      <td>0.604</td>\n",
       "      <td>0.511</td>\n",
       "      <td>67.602936</td>\n",
       "    </tr>\n",
       "    <tr>\n",
       "      <th>One dime</th>\n",
       "      <td>0</td>\n",
       "      <td>0</td>\n",
       "      <td>0</td>\n",
       "      <td>0</td>\n",
       "      <td>0</td>\n",
       "      <td>0</td>\n",
       "      <td>0</td>\n",
       "      <td>0</td>\n",
       "      <td>0</td>\n",
       "      <td>0.011</td>\n",
       "      <td>0.116</td>\n",
       "      <td>32.261086</td>\n",
       "    </tr>\n",
       "    <tr>\n",
       "      <th>One quarter</th>\n",
       "      <td>0</td>\n",
       "      <td>0</td>\n",
       "      <td>0</td>\n",
       "      <td>0</td>\n",
       "      <td>0</td>\n",
       "      <td>0</td>\n",
       "      <td>0</td>\n",
       "      <td>0</td>\n",
       "      <td>0</td>\n",
       "      <td>0.011</td>\n",
       "      <td>0.511</td>\n",
       "      <td>46.116505</td>\n",
       "    </tr>\n",
       "    <tr>\n",
       "      <th>Air Heads</th>\n",
       "      <td>0</td>\n",
       "      <td>1</td>\n",
       "      <td>0</td>\n",
       "      <td>0</td>\n",
       "      <td>0</td>\n",
       "      <td>0</td>\n",
       "      <td>0</td>\n",
       "      <td>0</td>\n",
       "      <td>0</td>\n",
       "      <td>0.906</td>\n",
       "      <td>0.511</td>\n",
       "      <td>52.341465</td>\n",
       "    </tr>\n",
       "  </tbody>\n",
       "</table>\n",
       "</div>"
      ],
      "text/plain": [
       "                chocolate  fruity  caramel  peanutyalmondy  nougat  \\\n",
       "competitorname                                                       \n",
       "100 Grand               1       0        1               0       0   \n",
       "3 Musketeers            1       0        0               0       1   \n",
       "One dime                0       0        0               0       0   \n",
       "One quarter             0       0        0               0       0   \n",
       "Air Heads               0       1        0               0       0   \n",
       "\n",
       "                crispedricewafer  hard  bar  pluribus  sugarpercent  \\\n",
       "competitorname                                                        \n",
       "100 Grand                      1     0    1         0         0.732   \n",
       "3 Musketeers                   0     0    1         0         0.604   \n",
       "One dime                       0     0    0         0         0.011   \n",
       "One quarter                    0     0    0         0         0.011   \n",
       "Air Heads                      0     0    0         0         0.906   \n",
       "\n",
       "                pricepercent  winpercent  \n",
       "competitorname                            \n",
       "100 Grand              0.860   66.971725  \n",
       "3 Musketeers           0.511   67.602936  \n",
       "One dime               0.116   32.261086  \n",
       "One quarter            0.511   46.116505  \n",
       "Air Heads              0.511   52.341465  "
      ]
     },
     "execution_count": 6,
     "metadata": {},
     "output_type": "execute_result"
    }
   ],
   "source": [
    "data.head()"
   ]
  },
  {
   "cell_type": "markdown",
   "metadata": {
    "slideshow": {
     "slide_type": "slide"
    }
   },
   "source": [
    "### 1.2: How many candy-bars were evaluated?"
   ]
  },
  {
   "cell_type": "markdown",
   "metadata": {
    "slideshow": {
     "slide_type": "slide"
    }
   },
   "source": [
    "### 1.3: How many features do you have?"
   ]
  },
  {
   "cell_type": "markdown",
   "metadata": {
    "slideshow": {
     "slide_type": "slide"
    }
   },
   "source": [
    "### 1.4: Are there any datapoints that seem odd to you?"
   ]
  },
  {
   "cell_type": "markdown",
   "metadata": {},
   "source": [
    "### 1.5: Give a ranked list of candy bars with respect to ```winpercent```"
   ]
  },
  {
   "cell_type": "markdown",
   "metadata": {},
   "source": [
    "### 1.6: Give a ranked list of ingredients (top occurences to lowest occurence)"
   ]
  },
  {
   "cell_type": "markdown",
   "metadata": {},
   "source": [
    "### 1.7: Create a pearson correlation matrix"
   ]
  },
  {
   "cell_type": "markdown",
   "metadata": {},
   "source": [
    "### 1.8: Choose a model to represent the relationship between ingredients and ```winpercent```"
   ]
  },
  {
   "cell_type": "markdown",
   "metadata": {},
   "source": [
    "### 1.9: The client wants to know the most important ingredient. What recommendation do you give him?\n",
    "\n",
    "We will use the scikit-learn library to perform linear regression.\n",
    "\n",
    "You can use the ```yourmodel.coef_``` to obtain regression coefficients."
   ]
  },
  {
   "cell_type": "code",
   "execution_count": 12,
   "metadata": {},
   "outputs": [],
   "source": [
    "from sklearn.linear_model import LinearRegression"
   ]
  },
  {
   "cell_type": "markdown",
   "metadata": {},
   "source": [
    "### 1.10: What's the most-likely winpercent of a franken-bar (contains all ingredients)?"
   ]
  },
  {
   "cell_type": "markdown",
   "metadata": {},
   "source": [
    "### 1.11: Is this reasonable?"
   ]
  },
  {
   "cell_type": "markdown",
   "metadata": {},
   "source": [
    "----"
   ]
  },
  {
   "cell_type": "markdown",
   "metadata": {},
   "source": [
    "# Dimensionality Reduction - Principal Component Analysis (PCA)\n",
    "\n",
    "In the following exercise you will implement your own version of a principal component analysis:\n",
    "You will need to perform the followin steps and answer the following questions:\n",
    "## Task 2: Implementing your own PCA\n",
    "\n",
    "- 2.1: We've provided you a dataset $X_{raw}$ of noisy measurements. Matrix shape (N_data_points x p_features)\n",
    "- 2.2: Obtain the mean of the features and subtract to obtain a centered feature set $X$ Matrix shape (N_data_points x p_features)\n",
    "- 2.3: Compute the covariance $Cov$ of the features. Use numpy.dot to obtain the covariance matrix. Matrix Shape (p_features x p_features) \n",
    "- 2.4: Compute the eigenvalues and eigenvectors $V$ of the covariance matrix and sort them by their corresponding eigenvalues.\n",
    "- 2.5: Create a graph of the centered data with arrows pointing in the direction of the principal components\n",
    "- 2.6: Compute and plot the transformed data with all principal components $X_{pca}=XV$\n",
    "- 2.7: Compare your solution $X_{pca}$ to the output of using ```sklearn.decomposition.PCA```"
   ]
  },
  {
   "cell_type": "markdown",
   "metadata": {},
   "source": [
    "### 2.1 The noisy linear dataset $X_{raw}$ of noisy measurements."
   ]
  },
  {
   "cell_type": "code",
   "execution_count": 17,
   "metadata": {},
   "outputs": [
    {
     "name": "stdout",
     "output_type": "stream",
     "text": [
      "(100, 2)\n"
     ]
    }
   ],
   "source": [
    "x = np.linspace(0, 1, 100)\n",
    "y_gt = np.pi+x\n",
    "y = y_gt + np.random.normal(0, 0.1, (100)) \n",
    "X_raw = np.stack([x, y], 1)\n",
    "print(X_raw.shape)"
   ]
  },
  {
   "cell_type": "code",
   "execution_count": 18,
   "metadata": {},
   "outputs": [
    {
     "data": {
      "text/plain": [
       "<matplotlib.collections.PathCollection at 0x7effd80ab7b8>"
      ]
     },
     "execution_count": 18,
     "metadata": {},
     "output_type": "execute_result"
    },
    {
     "data": {
      "image/png": "[encoded data removed]",
      "text/plain": [
       "<Figure size 864x864 with 1 Axes>"
      ]
     },
     "metadata": {
      "needs_background": "light"
     },
     "output_type": "display_data"
    }
   ],
   "source": [
    "fig, ax = plt.subplots(1, 1, figsize=(12, 12))\n",
    "ax.scatter(x, y)"
   ]
  },
  {
   "cell_type": "markdown",
   "metadata": {},
   "source": [
    "### 2.1: Obtain the mean of the features and subtract"
   ]
  },
  {
   "cell_type": "markdown",
   "metadata": {},
   "source": [
    "### 2.2: Compute the covariance $Cov$ of the features."
   ]
  },
  {
   "cell_type": "markdown",
   "metadata": {},
   "source": [
    "### 2.3: Compute the eigenvalues and eigenvectors $V$"
   ]
  },
  {
   "cell_type": "markdown",
   "metadata": {},
   "source": [
    "### 2.4: Create a graph of the centered data with arrows pointing in the direction of the principal components"
   ]
  },
  {
   "cell_type": "markdown",
   "metadata": {},
   "source": [
    "### 2.5: Compute and plot the transformed data with all principal components $X_{pca}=XV$"
   ]
  },
  {
   "cell_type": "markdown",
   "metadata": {},
   "source": [
    "### 2.6: Compare your solution $X_{pca}$ to the output of using ```sklearn.decomposition.PCA```"
   ]
  },
  {
   "cell_type": "code",
   "execution_count": 25,
   "metadata": {},
   "outputs": [],
   "source": [
    "from sklearn.decomposition import PCA"
   ]
  },
  {
   "cell_type": "markdown",
   "metadata": {},
   "source": [
    "## Task 3: PCA as a dimensionality reduction and exploratory data analysis tool (EDA)\n",
    "- 3.1: Load the breast cancer dataset ```from sklearn.datasets import load_breast_cancer```\n",
    "- 3.2: Create a two-component PCA projection using sklearn's PCA implementation and plot on a graph using ```plt.scatter```. Make the color equal to the binary set of classes.\n",
    "- 3.3: Is there a benefit of performing PCA here? What type of classifier would perform well on this dataset?\n",
    "- 3.3: Fit a linear classifier using ```sklearn.linear_model.SGDClassifier``` and prove your hypothesis using an accuracy score\n",
    "\n",
    "### 3.1: Load the breast cancer dataset ```from sklearn.datasets import load_breast_cancer```"
   ]
  },
  {
   "cell_type": "markdown",
   "metadata": {},
   "source": [
    "### 3.2: Create a two-component PCA projection using sklearn's PCA implementation and plot on a graph using ```plt.scatter```. Make the color equal to the binary set of classes.\n"
   ]
  },
  {
   "cell_type": "markdown",
   "metadata": {},
   "source": [
    "###  3.3:  Is there a benefit of performing PCA here? What type of classifier would perform well on this dataset?\n",
    "It looks like a simple linear model would perform quite well at seperating the two classes!"
   ]
  },
  {
   "cell_type": "markdown",
   "metadata": {},
   "source": [
    "### 3.4: Fit a linear classifier using ```sklearn.linear_model.SGDClassifier``` and prove your hypothesis using an accuracy score"
   ]
  },
  {
   "cell_type": "markdown",
   "metadata": {},
   "source": [
    "---"
   ]
  },
  {
   "cell_type": "markdown",
   "metadata": {},
   "source": [
    "## Task 4: K-Means Clustering Exercise"
   ]
  },
  {
   "cell_type": "markdown",
   "metadata": {},
   "source": [
    "### 4.1: Fit k-Means clusters to the PCA'd cancer dataset and plot the resulting clusters and their centers\n",
    "Careful k-Means doesn't care about your labels therefore you may need to \"flip\" your labels to get reasonable predictions."
   ]
  },
  {
   "cell_type": "markdown",
   "metadata": {},
   "source": [
    "---"
   ]
  },
  {
   "cell_type": "markdown",
   "metadata": {},
   "source": [
    "## Task 5: Logistic Regression Exercise\n",
    "In the following exercise we will use LogisticRegression as a simple \"black-box\" model\n",
    "to outperform our previous classifiers, the linear classifier and the k-Means classifier.\n",
    "\n",
    "Our baseline classifier - the k-Means algorithm performed at 85%. Let's see if we can improve on that.\n",
    "To do so we will use sklearn's ```sklearn.linear_model.LogisticRegression``` class.\n",
    "\n",
    "- 5.1: Import the logistic regression module and the ```sklearn.model_selection.StratifiedShuffleSplit``` class\n",
    "- 5.2: Create a new logistic regression classifier and overfit to the whole dataset with default values. How good does this model perform on the training set?\n",
    "- 5.3: Use the ```StratifiedShuffleSplit``` to create a 50/50 train test split.\n",
    "- 5.4: For the given split evaluate the impact of the regularization strength factor C:\n",
    "    - Choose values of C on a log10 scale \\[0.001, 0.01, ..., 10\\]\n",
    "    - For each value of C perform the following task and evaluate the accuracy on train and test sets\n",
    "        1. Scale the data using ```StandardScaler```\n",
    "        2. Fit a logistic regression classifier to the training data\n",
    "        3. Evaluate the accuracy on the training set\n",
    "        4. Evaluate the accuracy on the test set\n",
    "        5. Store both accuracies in an array\n",
    "    - Plot regularization strength vs. Test and Train Accuracy on a log scale. Which factor of C do you choose?\n",
    "    - Can you identify Bias vs. Variance?\n",
    "    "
   ]
  },
  {
   "cell_type": "markdown",
   "metadata": {},
   "source": [
    "### 5.1: Import the logistic regression module and the sklearn.model_selection.StratifiedShuffleSplit class"
   ]
  },
  {
   "cell_type": "markdown",
   "metadata": {},
   "source": [
    "### 5.2: Create a new logistic regression classifier and overfit to the whole dataset"
   ]
  },
  {
   "cell_type": "markdown",
   "metadata": {},
   "source": [
    "### 5.3: Use the StratifiedShuffleSplit to create a 50/50 train test split."
   ]
  },
  {
   "cell_type": "markdown",
   "metadata": {},
   "source": [
    "### 5.4: For the given split evaluate the impact of the regularization strength factor C"
   ]
  },
  {
   "cell_type": "markdown",
   "metadata": {},
   "source": [
    "### 5.4: Plot regularization strength vs. Test and Train Accuracy on a log scale. Which factor of C do you choose?"
   ]
  },
  {
   "cell_type": "markdown",
   "metadata": {},
   "source": [
    "### 5.4: Can you identify Bias vs. Variance?"
   ]
  },
  {
   "cell_type": "code",
   "execution_count": null,
   "metadata": {},
   "outputs": [],
   "source": []
  }
 ],
 "metadata": {
  "kernelspec": {
   "display_name": "Python [conda env:dlenv]",
   "language": "python",
   "name": "conda-env-dlenv-py"
  },
  "language_info": {
   "codemirror_mode": {
    "name": "ipython",
    "version": 3
   },
   "file_extension": ".py",
   "mimetype": "text/x-python",
   "name": "python",
   "nbconvert_exporter": "python",
   "pygments_lexer": "ipython3",
   "version": "3.6.5"
  }
 },
 "nbformat": 4,
 "nbformat_minor": 2
}

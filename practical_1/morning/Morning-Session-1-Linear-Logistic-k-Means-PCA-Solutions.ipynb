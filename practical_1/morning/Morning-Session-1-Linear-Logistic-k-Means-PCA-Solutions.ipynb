{
 "cells": [
  {
   "cell_type": "code",
   "execution_count": 1,
   "metadata": {},
   "outputs": [
    {
     "name": "stdout",
     "output_type": "stream",
     "text": [
      "Populating the interactive namespace from numpy and matplotlib\n"
     ]
    }
   ],
   "source": [
    "%pylab inline\n",
    "import pandas as pd"
   ]
  },
  {
   "cell_type": "code",
   "execution_count": 2,
   "metadata": {},
   "outputs": [],
   "source": [
    "#Only from Colab\n",
    "#from google.colab import drive\n",
    "#drive.mount('/content/gdrive/')"
   ]
  },
  {
   "cell_type": "markdown",
   "metadata": {
    "slideshow": {
     "slide_type": "slide"
    }
   },
   "source": [
    "# ACSE Module 8 - Practical - Morning Session 1:\n",
    "----\n",
    "# Linear Regression, Logistic Regression, k-Means, PCA"
   ]
  },
  {
   "cell_type": "markdown",
   "metadata": {
    "slideshow": {
     "slide_type": "slide"
    }
   },
   "source": [
    "## Task 1: Candy Evaluation Dataset - Linear Regression\n",
    "\n",
    "You work at a large marketing company and one of your clients is thinking about producing a new candy-bar.  \n",
    "They would like to figure out which ingredients contribute most to the overall popularity of a candy bar to guide their food-experts.  \n",
    "To do so they've performed a study of how popular each brand of candy-bar is by asking people to choose 1 out of three bars.  \n",
    "The popularity is measured in ```winpercent``` how often a specific candy bar was chosen as the winner of three.  \n",
    "They've sent you the dataset, try to answer the following questions:  \n",
    "- How many candy-bars were evaluated?\n",
    "- How many features / columns of data do you have per candy-bar?\n",
    "- How many of these are likely to be ingredients?\n",
    "- Are there any datapoints that seem odd to you? If yes, drop them.\n",
    "- Give a ranked list of candy bars with respect to ```winpercent```\n",
    "- Give a ranked list of ingredients (top occurences to lowest occurence)\n",
    "- Create a pearson correlation matrix\n",
    "- Choose a model to represent the relationship between ingredients and ```winpercent```\n",
    "- The client wants to know the most important ingredient. What recommendation do you give him?\n",
    "- What's the most-likely winpercent of a franken-bar (contains all ingredients)?\n",
    "- Is this reasonable?"
   ]
  },
  {
   "cell_type": "markdown",
   "metadata": {
    "slideshow": {
     "slide_type": "slide"
    }
   },
   "source": [
    "### 1.1 Loading the data\n",
    "The following link contains a GDrive of the data used for this exercise.\n",
    "Make it available in your drive.\n",
    "\n",
    "[ACSE-Data](https://drive.google.com/drive/folders/1ykkRE0I-BFtbk1IfskiG0oOOQ2nd83n4?usp=sharing)"
   ]
  },
  {
   "cell_type": "code",
   "execution_count": 3,
   "metadata": {
    "slideshow": {
     "slide_type": "subslide"
    }
   },
   "outputs": [],
   "source": [
    "#Locally\n",
    "data = pd.read_csv(\"./candy_data.csv\", index_col=\"competitorname\")\n",
    "\n",
    "#From Colab\n",
    "#data = pd.read_csv(F\"/content/gdrive/My Drive/acse-data/candy_data.csv\", index_col=\"competitorname\")"
   ]
  },
  {
   "cell_type": "code",
   "execution_count": 4,
   "metadata": {
    "slideshow": {
     "slide_type": "subslide"
    }
   },
   "outputs": [
    {
     "data": {
      "text/html": [
       "<div>\n",
       "<style scoped>\n",
       "    .dataframe tbody tr th:only-of-type {\n",
       "        vertical-align: middle;\n",
       "    }\n",
       "\n",
       "    .dataframe tbody tr th {\n",
       "        vertical-align: top;\n",
       "    }\n",
       "\n",
       "    .dataframe thead th {\n",
       "        text-align: right;\n",
       "    }\n",
       "</style>\n",
       "<table border=\"1\" class=\"dataframe\">\n",
       "  <thead>\n",
       "    <tr style=\"text-align: right;\">\n",
       "      <th></th>\n",
       "      <th>chocolate</th>\n",
       "      <th>fruity</th>\n",
       "      <th>caramel</th>\n",
       "      <th>peanutyalmondy</th>\n",
       "      <th>nougat</th>\n",
       "      <th>crispedricewafer</th>\n",
       "      <th>hard</th>\n",
       "      <th>bar</th>\n",
       "      <th>pluribus</th>\n",
       "      <th>sugarpercent</th>\n",
       "      <th>pricepercent</th>\n",
       "      <th>winpercent</th>\n",
       "    </tr>\n",
       "    <tr>\n",
       "      <th>competitorname</th>\n",
       "      <th></th>\n",
       "      <th></th>\n",
       "      <th></th>\n",
       "      <th></th>\n",
       "      <th></th>\n",
       "      <th></th>\n",
       "      <th></th>\n",
       "      <th></th>\n",
       "      <th></th>\n",
       "      <th></th>\n",
       "      <th></th>\n",
       "      <th></th>\n",
       "    </tr>\n",
       "  </thead>\n",
       "  <tbody>\n",
       "    <tr>\n",
       "      <th>100 Grand</th>\n",
       "      <td>1</td>\n",
       "      <td>0</td>\n",
       "      <td>1</td>\n",
       "      <td>0</td>\n",
       "      <td>0</td>\n",
       "      <td>1</td>\n",
       "      <td>0</td>\n",
       "      <td>1</td>\n",
       "      <td>0</td>\n",
       "      <td>0.732</td>\n",
       "      <td>0.860</td>\n",
       "      <td>66.971725</td>\n",
       "    </tr>\n",
       "    <tr>\n",
       "      <th>3 Musketeers</th>\n",
       "      <td>1</td>\n",
       "      <td>0</td>\n",
       "      <td>0</td>\n",
       "      <td>0</td>\n",
       "      <td>1</td>\n",
       "      <td>0</td>\n",
       "      <td>0</td>\n",
       "      <td>1</td>\n",
       "      <td>0</td>\n",
       "      <td>0.604</td>\n",
       "      <td>0.511</td>\n",
       "      <td>67.602936</td>\n",
       "    </tr>\n",
       "    <tr>\n",
       "      <th>One dime</th>\n",
       "      <td>0</td>\n",
       "      <td>0</td>\n",
       "      <td>0</td>\n",
       "      <td>0</td>\n",
       "      <td>0</td>\n",
       "      <td>0</td>\n",
       "      <td>0</td>\n",
       "      <td>0</td>\n",
       "      <td>0</td>\n",
       "      <td>0.011</td>\n",
       "      <td>0.116</td>\n",
       "      <td>32.261086</td>\n",
       "    </tr>\n",
       "    <tr>\n",
       "      <th>One quarter</th>\n",
       "      <td>0</td>\n",
       "      <td>0</td>\n",
       "      <td>0</td>\n",
       "      <td>0</td>\n",
       "      <td>0</td>\n",
       "      <td>0</td>\n",
       "      <td>0</td>\n",
       "      <td>0</td>\n",
       "      <td>0</td>\n",
       "      <td>0.011</td>\n",
       "      <td>0.511</td>\n",
       "      <td>46.116505</td>\n",
       "    </tr>\n",
       "    <tr>\n",
       "      <th>Air Heads</th>\n",
       "      <td>0</td>\n",
       "      <td>1</td>\n",
       "      <td>0</td>\n",
       "      <td>0</td>\n",
       "      <td>0</td>\n",
       "      <td>0</td>\n",
       "      <td>0</td>\n",
       "      <td>0</td>\n",
       "      <td>0</td>\n",
       "      <td>0.906</td>\n",
       "      <td>0.511</td>\n",
       "      <td>52.341465</td>\n",
       "    </tr>\n",
       "  </tbody>\n",
       "</table>\n",
       "</div>"
      ],
      "text/plain": [
       "                chocolate  fruity  caramel  peanutyalmondy  nougat  \\\n",
       "competitorname                                                       \n",
       "100 Grand               1       0        1               0       0   \n",
       "3 Musketeers            1       0        0               0       1   \n",
       "One dime                0       0        0               0       0   \n",
       "One quarter             0       0        0               0       0   \n",
       "Air Heads               0       1        0               0       0   \n",
       "\n",
       "                crispedricewafer  hard  bar  pluribus  sugarpercent  \\\n",
       "competitorname                                                        \n",
       "100 Grand                      1     0    1         0         0.732   \n",
       "3 Musketeers                   0     0    1         0         0.604   \n",
       "One dime                       0     0    0         0         0.011   \n",
       "One quarter                    0     0    0         0         0.011   \n",
       "Air Heads                      0     0    0         0         0.906   \n",
       "\n",
       "                pricepercent  winpercent  \n",
       "competitorname                            \n",
       "100 Grand              0.860   66.971725  \n",
       "3 Musketeers           0.511   67.602936  \n",
       "One dime               0.116   32.261086  \n",
       "One quarter            0.511   46.116505  \n",
       "Air Heads              0.511   52.341465  "
      ]
     },
     "execution_count": 4,
     "metadata": {},
     "output_type": "execute_result"
    }
   ],
   "source": [
    "data.head()"
   ]
  },
  {
   "cell_type": "markdown",
   "metadata": {
    "slideshow": {
     "slide_type": "slide"
    }
   },
   "source": [
    "### 1.2: How many candy-bars were evaluated?"
   ]
  },
  {
   "cell_type": "code",
   "execution_count": 5,
   "metadata": {
    "slideshow": {
     "slide_type": "subslide"
    }
   },
   "outputs": [
    {
     "name": "stdout",
     "output_type": "stream",
     "text": [
      "85\n"
     ]
    }
   ],
   "source": [
    "print(len(data.index))"
   ]
  },
  {
   "cell_type": "markdown",
   "metadata": {
    "slideshow": {
     "slide_type": "slide"
    }
   },
   "source": [
    "### 1.3: How many features do you have?"
   ]
  },
  {
   "cell_type": "code",
   "execution_count": 6,
   "metadata": {
    "slideshow": {
     "slide_type": "subslide"
    }
   },
   "outputs": [
    {
     "name": "stdout",
     "output_type": "stream",
     "text": [
      "['chocolate', 'fruity', 'caramel', 'peanutyalmondy', 'nougat', 'crispedricewafer', 'hard', 'bar', 'pluribus', 'sugarpercent', 'pricepercent', 'winpercent']\n"
     ]
    }
   ],
   "source": [
    "print(data.columns.tolist())"
   ]
  },
  {
   "cell_type": "markdown",
   "metadata": {
    "slideshow": {
     "slide_type": "slide"
    }
   },
   "source": [
    "### 1.4: Are there any datapoints that seem odd to you?"
   ]
  },
  {
   "cell_type": "code",
   "execution_count": 7,
   "metadata": {
    "slideshow": {
     "slide_type": "subslide"
    }
   },
   "outputs": [
    {
     "data": {
      "text/html": [
       "<div>\n",
       "<style scoped>\n",
       "    .dataframe tbody tr th:only-of-type {\n",
       "        vertical-align: middle;\n",
       "    }\n",
       "\n",
       "    .dataframe tbody tr th {\n",
       "        vertical-align: top;\n",
       "    }\n",
       "\n",
       "    .dataframe thead th {\n",
       "        text-align: right;\n",
       "    }\n",
       "</style>\n",
       "<table border=\"1\" class=\"dataframe\">\n",
       "  <thead>\n",
       "    <tr style=\"text-align: right;\">\n",
       "      <th></th>\n",
       "      <th>chocolate</th>\n",
       "      <th>fruity</th>\n",
       "      <th>caramel</th>\n",
       "      <th>peanutyalmondy</th>\n",
       "      <th>nougat</th>\n",
       "      <th>crispedricewafer</th>\n",
       "      <th>hard</th>\n",
       "      <th>bar</th>\n",
       "      <th>pluribus</th>\n",
       "      <th>sugarpercent</th>\n",
       "      <th>pricepercent</th>\n",
       "      <th>winpercent</th>\n",
       "    </tr>\n",
       "    <tr>\n",
       "      <th>competitorname</th>\n",
       "      <th></th>\n",
       "      <th></th>\n",
       "      <th></th>\n",
       "      <th></th>\n",
       "      <th></th>\n",
       "      <th></th>\n",
       "      <th></th>\n",
       "      <th></th>\n",
       "      <th></th>\n",
       "      <th></th>\n",
       "      <th></th>\n",
       "      <th></th>\n",
       "    </tr>\n",
       "  </thead>\n",
       "  <tbody>\n",
       "    <tr>\n",
       "      <th>100 Grand</th>\n",
       "      <td>1</td>\n",
       "      <td>0</td>\n",
       "      <td>1</td>\n",
       "      <td>0</td>\n",
       "      <td>0</td>\n",
       "      <td>1</td>\n",
       "      <td>0</td>\n",
       "      <td>1</td>\n",
       "      <td>0</td>\n",
       "      <td>0.732</td>\n",
       "      <td>0.860</td>\n",
       "      <td>66.971725</td>\n",
       "    </tr>\n",
       "    <tr>\n",
       "      <th>3 Musketeers</th>\n",
       "      <td>1</td>\n",
       "      <td>0</td>\n",
       "      <td>0</td>\n",
       "      <td>0</td>\n",
       "      <td>1</td>\n",
       "      <td>0</td>\n",
       "      <td>0</td>\n",
       "      <td>1</td>\n",
       "      <td>0</td>\n",
       "      <td>0.604</td>\n",
       "      <td>0.511</td>\n",
       "      <td>67.602936</td>\n",
       "    </tr>\n",
       "    <tr>\n",
       "      <th>One dime</th>\n",
       "      <td>0</td>\n",
       "      <td>0</td>\n",
       "      <td>0</td>\n",
       "      <td>0</td>\n",
       "      <td>0</td>\n",
       "      <td>0</td>\n",
       "      <td>0</td>\n",
       "      <td>0</td>\n",
       "      <td>0</td>\n",
       "      <td>0.011</td>\n",
       "      <td>0.116</td>\n",
       "      <td>32.261086</td>\n",
       "    </tr>\n",
       "    <tr>\n",
       "      <th>One quarter</th>\n",
       "      <td>0</td>\n",
       "      <td>0</td>\n",
       "      <td>0</td>\n",
       "      <td>0</td>\n",
       "      <td>0</td>\n",
       "      <td>0</td>\n",
       "      <td>0</td>\n",
       "      <td>0</td>\n",
       "      <td>0</td>\n",
       "      <td>0.011</td>\n",
       "      <td>0.511</td>\n",
       "      <td>46.116505</td>\n",
       "    </tr>\n",
       "    <tr>\n",
       "      <th>Air Heads</th>\n",
       "      <td>0</td>\n",
       "      <td>1</td>\n",
       "      <td>0</td>\n",
       "      <td>0</td>\n",
       "      <td>0</td>\n",
       "      <td>0</td>\n",
       "      <td>0</td>\n",
       "      <td>0</td>\n",
       "      <td>0</td>\n",
       "      <td>0.906</td>\n",
       "      <td>0.511</td>\n",
       "      <td>52.341465</td>\n",
       "    </tr>\n",
       "  </tbody>\n",
       "</table>\n",
       "</div>"
      ],
      "text/plain": [
       "                chocolate  fruity  caramel  peanutyalmondy  nougat  \\\n",
       "competitorname                                                       \n",
       "100 Grand               1       0        1               0       0   \n",
       "3 Musketeers            1       0        0               0       1   \n",
       "One dime                0       0        0               0       0   \n",
       "One quarter             0       0        0               0       0   \n",
       "Air Heads               0       1        0               0       0   \n",
       "\n",
       "                crispedricewafer  hard  bar  pluribus  sugarpercent  \\\n",
       "competitorname                                                        \n",
       "100 Grand                      1     0    1         0         0.732   \n",
       "3 Musketeers                   0     0    1         0         0.604   \n",
       "One dime                       0     0    0         0         0.011   \n",
       "One quarter                    0     0    0         0         0.011   \n",
       "Air Heads                      0     0    0         0         0.906   \n",
       "\n",
       "                pricepercent  winpercent  \n",
       "competitorname                            \n",
       "100 Grand              0.860   66.971725  \n",
       "3 Musketeers           0.511   67.602936  \n",
       "One dime               0.116   32.261086  \n",
       "One quarter            0.511   46.116505  \n",
       "Air Heads              0.511   52.341465  "
      ]
     },
     "execution_count": 7,
     "metadata": {},
     "output_type": "execute_result"
    }
   ],
   "source": [
    "data.head()"
   ]
  },
  {
   "cell_type": "markdown",
   "metadata": {},
   "source": [
    "There is a ```One dime``` and ```One quarter``` candy bar in the dataset."
   ]
  },
  {
   "cell_type": "code",
   "execution_count": 8,
   "metadata": {},
   "outputs": [
    {
     "data": {
      "text/html": [
       "<div>\n",
       "<style scoped>\n",
       "    .dataframe tbody tr th:only-of-type {\n",
       "        vertical-align: middle;\n",
       "    }\n",
       "\n",
       "    .dataframe tbody tr th {\n",
       "        vertical-align: top;\n",
       "    }\n",
       "\n",
       "    .dataframe thead th {\n",
       "        text-align: right;\n",
       "    }\n",
       "</style>\n",
       "<table border=\"1\" class=\"dataframe\">\n",
       "  <thead>\n",
       "    <tr style=\"text-align: right;\">\n",
       "      <th></th>\n",
       "      <th>chocolate</th>\n",
       "      <th>fruity</th>\n",
       "      <th>caramel</th>\n",
       "      <th>peanutyalmondy</th>\n",
       "      <th>nougat</th>\n",
       "      <th>crispedricewafer</th>\n",
       "      <th>hard</th>\n",
       "      <th>bar</th>\n",
       "      <th>pluribus</th>\n",
       "      <th>sugarpercent</th>\n",
       "      <th>pricepercent</th>\n",
       "      <th>winpercent</th>\n",
       "    </tr>\n",
       "    <tr>\n",
       "      <th>competitorname</th>\n",
       "      <th></th>\n",
       "      <th></th>\n",
       "      <th></th>\n",
       "      <th></th>\n",
       "      <th></th>\n",
       "      <th></th>\n",
       "      <th></th>\n",
       "      <th></th>\n",
       "      <th></th>\n",
       "      <th></th>\n",
       "      <th></th>\n",
       "      <th></th>\n",
       "    </tr>\n",
       "  </thead>\n",
       "  <tbody>\n",
       "    <tr>\n",
       "      <th>100 Grand</th>\n",
       "      <td>1</td>\n",
       "      <td>0</td>\n",
       "      <td>1</td>\n",
       "      <td>0</td>\n",
       "      <td>0</td>\n",
       "      <td>1</td>\n",
       "      <td>0</td>\n",
       "      <td>1</td>\n",
       "      <td>0</td>\n",
       "      <td>0.732</td>\n",
       "      <td>0.860</td>\n",
       "      <td>66.971725</td>\n",
       "    </tr>\n",
       "    <tr>\n",
       "      <th>3 Musketeers</th>\n",
       "      <td>1</td>\n",
       "      <td>0</td>\n",
       "      <td>0</td>\n",
       "      <td>0</td>\n",
       "      <td>1</td>\n",
       "      <td>0</td>\n",
       "      <td>0</td>\n",
       "      <td>1</td>\n",
       "      <td>0</td>\n",
       "      <td>0.604</td>\n",
       "      <td>0.511</td>\n",
       "      <td>67.602936</td>\n",
       "    </tr>\n",
       "    <tr>\n",
       "      <th>Air Heads</th>\n",
       "      <td>0</td>\n",
       "      <td>1</td>\n",
       "      <td>0</td>\n",
       "      <td>0</td>\n",
       "      <td>0</td>\n",
       "      <td>0</td>\n",
       "      <td>0</td>\n",
       "      <td>0</td>\n",
       "      <td>0</td>\n",
       "      <td>0.906</td>\n",
       "      <td>0.511</td>\n",
       "      <td>52.341465</td>\n",
       "    </tr>\n",
       "    <tr>\n",
       "      <th>Almond Joy</th>\n",
       "      <td>1</td>\n",
       "      <td>0</td>\n",
       "      <td>0</td>\n",
       "      <td>1</td>\n",
       "      <td>0</td>\n",
       "      <td>0</td>\n",
       "      <td>0</td>\n",
       "      <td>1</td>\n",
       "      <td>0</td>\n",
       "      <td>0.465</td>\n",
       "      <td>0.767</td>\n",
       "      <td>50.347546</td>\n",
       "    </tr>\n",
       "    <tr>\n",
       "      <th>Baby Ruth</th>\n",
       "      <td>1</td>\n",
       "      <td>0</td>\n",
       "      <td>1</td>\n",
       "      <td>1</td>\n",
       "      <td>1</td>\n",
       "      <td>0</td>\n",
       "      <td>0</td>\n",
       "      <td>1</td>\n",
       "      <td>0</td>\n",
       "      <td>0.604</td>\n",
       "      <td>0.767</td>\n",
       "      <td>56.914547</td>\n",
       "    </tr>\n",
       "  </tbody>\n",
       "</table>\n",
       "</div>"
      ],
      "text/plain": [
       "                chocolate  fruity  caramel  peanutyalmondy  nougat  \\\n",
       "competitorname                                                       \n",
       "100 Grand               1       0        1               0       0   \n",
       "3 Musketeers            1       0        0               0       1   \n",
       "Air Heads               0       1        0               0       0   \n",
       "Almond Joy              1       0        0               1       0   \n",
       "Baby Ruth               1       0        1               1       1   \n",
       "\n",
       "                crispedricewafer  hard  bar  pluribus  sugarpercent  \\\n",
       "competitorname                                                        \n",
       "100 Grand                      1     0    1         0         0.732   \n",
       "3 Musketeers                   0     0    1         0         0.604   \n",
       "Air Heads                      0     0    0         0         0.906   \n",
       "Almond Joy                     0     0    1         0         0.465   \n",
       "Baby Ruth                      0     0    1         0         0.604   \n",
       "\n",
       "                pricepercent  winpercent  \n",
       "competitorname                            \n",
       "100 Grand              0.860   66.971725  \n",
       "3 Musketeers           0.511   67.602936  \n",
       "Air Heads              0.511   52.341465  \n",
       "Almond Joy             0.767   50.347546  \n",
       "Baby Ruth              0.767   56.914547  "
      ]
     },
     "execution_count": 8,
     "metadata": {},
     "output_type": "execute_result"
    }
   ],
   "source": [
    "data = data.drop(['One dime', 'One quarter'], axis='index')\n",
    "data.head()"
   ]
  },
  {
   "cell_type": "markdown",
   "metadata": {},
   "source": [
    "### 1.5: Give a ranked list of candy bars with respect to ```winpercent```"
   ]
  },
  {
   "cell_type": "code",
   "execution_count": 9,
   "metadata": {},
   "outputs": [
    {
     "data": {
      "text/html": [
       "<div>\n",
       "<style scoped>\n",
       "    .dataframe tbody tr th:only-of-type {\n",
       "        vertical-align: middle;\n",
       "    }\n",
       "\n",
       "    .dataframe tbody tr th {\n",
       "        vertical-align: top;\n",
       "    }\n",
       "\n",
       "    .dataframe thead th {\n",
       "        text-align: right;\n",
       "    }\n",
       "</style>\n",
       "<table border=\"1\" class=\"dataframe\">\n",
       "  <thead>\n",
       "    <tr style=\"text-align: right;\">\n",
       "      <th></th>\n",
       "      <th>chocolate</th>\n",
       "      <th>fruity</th>\n",
       "      <th>caramel</th>\n",
       "      <th>peanutyalmondy</th>\n",
       "      <th>nougat</th>\n",
       "      <th>crispedricewafer</th>\n",
       "      <th>hard</th>\n",
       "      <th>bar</th>\n",
       "      <th>pluribus</th>\n",
       "      <th>sugarpercent</th>\n",
       "      <th>pricepercent</th>\n",
       "      <th>winpercent</th>\n",
       "    </tr>\n",
       "    <tr>\n",
       "      <th>competitorname</th>\n",
       "      <th></th>\n",
       "      <th></th>\n",
       "      <th></th>\n",
       "      <th></th>\n",
       "      <th></th>\n",
       "      <th></th>\n",
       "      <th></th>\n",
       "      <th></th>\n",
       "      <th></th>\n",
       "      <th></th>\n",
       "      <th></th>\n",
       "      <th></th>\n",
       "    </tr>\n",
       "  </thead>\n",
       "  <tbody>\n",
       "    <tr>\n",
       "      <th>ReeseÕs Peanut Butter cup</th>\n",
       "      <td>1</td>\n",
       "      <td>0</td>\n",
       "      <td>0</td>\n",
       "      <td>1</td>\n",
       "      <td>0</td>\n",
       "      <td>0</td>\n",
       "      <td>0</td>\n",
       "      <td>0</td>\n",
       "      <td>0</td>\n",
       "      <td>0.720</td>\n",
       "      <td>0.651</td>\n",
       "      <td>84.180290</td>\n",
       "    </tr>\n",
       "    <tr>\n",
       "      <th>ReeseÕs Miniatures</th>\n",
       "      <td>1</td>\n",
       "      <td>0</td>\n",
       "      <td>0</td>\n",
       "      <td>1</td>\n",
       "      <td>0</td>\n",
       "      <td>0</td>\n",
       "      <td>0</td>\n",
       "      <td>0</td>\n",
       "      <td>0</td>\n",
       "      <td>0.034</td>\n",
       "      <td>0.279</td>\n",
       "      <td>81.866257</td>\n",
       "    </tr>\n",
       "    <tr>\n",
       "      <th>Twix</th>\n",
       "      <td>1</td>\n",
       "      <td>0</td>\n",
       "      <td>1</td>\n",
       "      <td>0</td>\n",
       "      <td>0</td>\n",
       "      <td>1</td>\n",
       "      <td>0</td>\n",
       "      <td>1</td>\n",
       "      <td>0</td>\n",
       "      <td>0.546</td>\n",
       "      <td>0.906</td>\n",
       "      <td>81.642914</td>\n",
       "    </tr>\n",
       "    <tr>\n",
       "      <th>Kit Kat</th>\n",
       "      <td>1</td>\n",
       "      <td>0</td>\n",
       "      <td>0</td>\n",
       "      <td>0</td>\n",
       "      <td>0</td>\n",
       "      <td>1</td>\n",
       "      <td>0</td>\n",
       "      <td>1</td>\n",
       "      <td>0</td>\n",
       "      <td>0.313</td>\n",
       "      <td>0.511</td>\n",
       "      <td>76.768600</td>\n",
       "    </tr>\n",
       "    <tr>\n",
       "      <th>Snickers</th>\n",
       "      <td>1</td>\n",
       "      <td>0</td>\n",
       "      <td>1</td>\n",
       "      <td>1</td>\n",
       "      <td>1</td>\n",
       "      <td>0</td>\n",
       "      <td>0</td>\n",
       "      <td>1</td>\n",
       "      <td>0</td>\n",
       "      <td>0.546</td>\n",
       "      <td>0.651</td>\n",
       "      <td>76.673782</td>\n",
       "    </tr>\n",
       "    <tr>\n",
       "      <th>ReeseÕs pieces</th>\n",
       "      <td>1</td>\n",
       "      <td>0</td>\n",
       "      <td>0</td>\n",
       "      <td>1</td>\n",
       "      <td>0</td>\n",
       "      <td>0</td>\n",
       "      <td>0</td>\n",
       "      <td>0</td>\n",
       "      <td>1</td>\n",
       "      <td>0.406</td>\n",
       "      <td>0.651</td>\n",
       "      <td>73.434990</td>\n",
       "    </tr>\n",
       "    <tr>\n",
       "      <th>Milky Way</th>\n",
       "      <td>1</td>\n",
       "      <td>0</td>\n",
       "      <td>1</td>\n",
       "      <td>0</td>\n",
       "      <td>1</td>\n",
       "      <td>0</td>\n",
       "      <td>0</td>\n",
       "      <td>1</td>\n",
       "      <td>0</td>\n",
       "      <td>0.604</td>\n",
       "      <td>0.651</td>\n",
       "      <td>73.099556</td>\n",
       "    </tr>\n",
       "    <tr>\n",
       "      <th>ReeseÕs stuffed with pieces</th>\n",
       "      <td>1</td>\n",
       "      <td>0</td>\n",
       "      <td>0</td>\n",
       "      <td>1</td>\n",
       "      <td>0</td>\n",
       "      <td>0</td>\n",
       "      <td>0</td>\n",
       "      <td>0</td>\n",
       "      <td>0</td>\n",
       "      <td>0.988</td>\n",
       "      <td>0.651</td>\n",
       "      <td>72.887901</td>\n",
       "    </tr>\n",
       "    <tr>\n",
       "      <th>Peanut butter M&amp;MÕs</th>\n",
       "      <td>1</td>\n",
       "      <td>0</td>\n",
       "      <td>0</td>\n",
       "      <td>1</td>\n",
       "      <td>0</td>\n",
       "      <td>0</td>\n",
       "      <td>0</td>\n",
       "      <td>0</td>\n",
       "      <td>1</td>\n",
       "      <td>0.825</td>\n",
       "      <td>0.651</td>\n",
       "      <td>71.465050</td>\n",
       "    </tr>\n",
       "    <tr>\n",
       "      <th>Nestle Butterfinger</th>\n",
       "      <td>1</td>\n",
       "      <td>0</td>\n",
       "      <td>0</td>\n",
       "      <td>1</td>\n",
       "      <td>0</td>\n",
       "      <td>0</td>\n",
       "      <td>0</td>\n",
       "      <td>1</td>\n",
       "      <td>0</td>\n",
       "      <td>0.604</td>\n",
       "      <td>0.767</td>\n",
       "      <td>70.735641</td>\n",
       "    </tr>\n",
       "  </tbody>\n",
       "</table>\n",
       "</div>"
      ],
      "text/plain": [
       "                             chocolate  fruity  caramel  peanutyalmondy  \\\n",
       "competitorname                                                            \n",
       "ReeseÕs Peanut Butter cup            1       0        0               1   \n",
       "ReeseÕs Miniatures                   1       0        0               1   \n",
       "Twix                                 1       0        1               0   \n",
       "Kit Kat                              1       0        0               0   \n",
       "Snickers                             1       0        1               1   \n",
       "ReeseÕs pieces                       1       0        0               1   \n",
       "Milky Way                            1       0        1               0   \n",
       "ReeseÕs stuffed with pieces          1       0        0               1   \n",
       "Peanut butter M&MÕs                  1       0        0               1   \n",
       "Nestle Butterfinger                  1       0        0               1   \n",
       "\n",
       "                             nougat  crispedricewafer  hard  bar  pluribus  \\\n",
       "competitorname                                                               \n",
       "ReeseÕs Peanut Butter cup         0                 0     0    0         0   \n",
       "ReeseÕs Miniatures                0                 0     0    0         0   \n",
       "Twix                              0                 1     0    1         0   \n",
       "Kit Kat                           0                 1     0    1         0   \n",
       "Snickers                          1                 0     0    1         0   \n",
       "ReeseÕs pieces                    0                 0     0    0         1   \n",
       "Milky Way                         1                 0     0    1         0   \n",
       "ReeseÕs stuffed with pieces       0                 0     0    0         0   \n",
       "Peanut butter M&MÕs               0                 0     0    0         1   \n",
       "Nestle Butterfinger               0                 0     0    1         0   \n",
       "\n",
       "                             sugarpercent  pricepercent  winpercent  \n",
       "competitorname                                                       \n",
       "ReeseÕs Peanut Butter cup           0.720         0.651   84.180290  \n",
       "ReeseÕs Miniatures                  0.034         0.279   81.866257  \n",
       "Twix                                0.546         0.906   81.642914  \n",
       "Kit Kat                             0.313         0.511   76.768600  \n",
       "Snickers                            0.546         0.651   76.673782  \n",
       "ReeseÕs pieces                      0.406         0.651   73.434990  \n",
       "Milky Way                           0.604         0.651   73.099556  \n",
       "ReeseÕs stuffed with pieces         0.988         0.651   72.887901  \n",
       "Peanut butter M&MÕs                 0.825         0.651   71.465050  \n",
       "Nestle Butterfinger                 0.604         0.767   70.735641  "
      ]
     },
     "execution_count": 9,
     "metadata": {},
     "output_type": "execute_result"
    }
   ],
   "source": [
    "data.sort_values(\"winpercent\", ascending=False).head(10)"
   ]
  },
  {
   "cell_type": "code",
   "execution_count": 10,
   "metadata": {},
   "outputs": [
    {
     "data": {
      "text/html": [
       "<div>\n",
       "<style scoped>\n",
       "    .dataframe tbody tr th:only-of-type {\n",
       "        vertical-align: middle;\n",
       "    }\n",
       "\n",
       "    .dataframe tbody tr th {\n",
       "        vertical-align: top;\n",
       "    }\n",
       "\n",
       "    .dataframe thead th {\n",
       "        text-align: right;\n",
       "    }\n",
       "</style>\n",
       "<table border=\"1\" class=\"dataframe\">\n",
       "  <thead>\n",
       "    <tr style=\"text-align: right;\">\n",
       "      <th></th>\n",
       "      <th>chocolate</th>\n",
       "      <th>fruity</th>\n",
       "      <th>caramel</th>\n",
       "      <th>peanutyalmondy</th>\n",
       "      <th>nougat</th>\n",
       "      <th>crispedricewafer</th>\n",
       "      <th>hard</th>\n",
       "      <th>bar</th>\n",
       "      <th>pluribus</th>\n",
       "      <th>sugarpercent</th>\n",
       "      <th>pricepercent</th>\n",
       "      <th>winpercent</th>\n",
       "    </tr>\n",
       "    <tr>\n",
       "      <th>competitorname</th>\n",
       "      <th></th>\n",
       "      <th></th>\n",
       "      <th></th>\n",
       "      <th></th>\n",
       "      <th></th>\n",
       "      <th></th>\n",
       "      <th></th>\n",
       "      <th></th>\n",
       "      <th></th>\n",
       "      <th></th>\n",
       "      <th></th>\n",
       "      <th></th>\n",
       "    </tr>\n",
       "  </thead>\n",
       "  <tbody>\n",
       "    <tr>\n",
       "      <th>Nik L Nip</th>\n",
       "      <td>0</td>\n",
       "      <td>1</td>\n",
       "      <td>0</td>\n",
       "      <td>0</td>\n",
       "      <td>0</td>\n",
       "      <td>0</td>\n",
       "      <td>0</td>\n",
       "      <td>0</td>\n",
       "      <td>1</td>\n",
       "      <td>0.197</td>\n",
       "      <td>0.976</td>\n",
       "      <td>22.445341</td>\n",
       "    </tr>\n",
       "    <tr>\n",
       "      <th>Boston Baked Beans</th>\n",
       "      <td>0</td>\n",
       "      <td>0</td>\n",
       "      <td>0</td>\n",
       "      <td>1</td>\n",
       "      <td>0</td>\n",
       "      <td>0</td>\n",
       "      <td>0</td>\n",
       "      <td>0</td>\n",
       "      <td>1</td>\n",
       "      <td>0.313</td>\n",
       "      <td>0.511</td>\n",
       "      <td>23.417824</td>\n",
       "    </tr>\n",
       "    <tr>\n",
       "      <th>Chiclets</th>\n",
       "      <td>0</td>\n",
       "      <td>1</td>\n",
       "      <td>0</td>\n",
       "      <td>0</td>\n",
       "      <td>0</td>\n",
       "      <td>0</td>\n",
       "      <td>0</td>\n",
       "      <td>0</td>\n",
       "      <td>1</td>\n",
       "      <td>0.046</td>\n",
       "      <td>0.325</td>\n",
       "      <td>24.524988</td>\n",
       "    </tr>\n",
       "    <tr>\n",
       "      <th>Super Bubble</th>\n",
       "      <td>0</td>\n",
       "      <td>1</td>\n",
       "      <td>0</td>\n",
       "      <td>0</td>\n",
       "      <td>0</td>\n",
       "      <td>0</td>\n",
       "      <td>0</td>\n",
       "      <td>0</td>\n",
       "      <td>0</td>\n",
       "      <td>0.162</td>\n",
       "      <td>0.116</td>\n",
       "      <td>27.303865</td>\n",
       "    </tr>\n",
       "    <tr>\n",
       "      <th>Jawbusters</th>\n",
       "      <td>0</td>\n",
       "      <td>1</td>\n",
       "      <td>0</td>\n",
       "      <td>0</td>\n",
       "      <td>0</td>\n",
       "      <td>0</td>\n",
       "      <td>1</td>\n",
       "      <td>0</td>\n",
       "      <td>1</td>\n",
       "      <td>0.093</td>\n",
       "      <td>0.511</td>\n",
       "      <td>28.127439</td>\n",
       "    </tr>\n",
       "    <tr>\n",
       "      <th>Root Beer Barrels</th>\n",
       "      <td>0</td>\n",
       "      <td>0</td>\n",
       "      <td>0</td>\n",
       "      <td>0</td>\n",
       "      <td>0</td>\n",
       "      <td>0</td>\n",
       "      <td>1</td>\n",
       "      <td>0</td>\n",
       "      <td>1</td>\n",
       "      <td>0.732</td>\n",
       "      <td>0.069</td>\n",
       "      <td>29.703691</td>\n",
       "    </tr>\n",
       "    <tr>\n",
       "      <th>Sugar Daddy</th>\n",
       "      <td>0</td>\n",
       "      <td>0</td>\n",
       "      <td>1</td>\n",
       "      <td>0</td>\n",
       "      <td>0</td>\n",
       "      <td>0</td>\n",
       "      <td>0</td>\n",
       "      <td>0</td>\n",
       "      <td>0</td>\n",
       "      <td>0.418</td>\n",
       "      <td>0.325</td>\n",
       "      <td>32.230995</td>\n",
       "    </tr>\n",
       "    <tr>\n",
       "      <th>Sugar Babies</th>\n",
       "      <td>0</td>\n",
       "      <td>0</td>\n",
       "      <td>1</td>\n",
       "      <td>0</td>\n",
       "      <td>0</td>\n",
       "      <td>0</td>\n",
       "      <td>0</td>\n",
       "      <td>0</td>\n",
       "      <td>1</td>\n",
       "      <td>0.965</td>\n",
       "      <td>0.767</td>\n",
       "      <td>33.437550</td>\n",
       "    </tr>\n",
       "    <tr>\n",
       "      <th>Haribo Happy Cola</th>\n",
       "      <td>0</td>\n",
       "      <td>0</td>\n",
       "      <td>0</td>\n",
       "      <td>0</td>\n",
       "      <td>0</td>\n",
       "      <td>0</td>\n",
       "      <td>0</td>\n",
       "      <td>0</td>\n",
       "      <td>1</td>\n",
       "      <td>0.465</td>\n",
       "      <td>0.465</td>\n",
       "      <td>34.158958</td>\n",
       "    </tr>\n",
       "    <tr>\n",
       "      <th>Caramel Apple Pops</th>\n",
       "      <td>0</td>\n",
       "      <td>1</td>\n",
       "      <td>1</td>\n",
       "      <td>0</td>\n",
       "      <td>0</td>\n",
       "      <td>0</td>\n",
       "      <td>0</td>\n",
       "      <td>0</td>\n",
       "      <td>0</td>\n",
       "      <td>0.604</td>\n",
       "      <td>0.325</td>\n",
       "      <td>34.517681</td>\n",
       "    </tr>\n",
       "  </tbody>\n",
       "</table>\n",
       "</div>"
      ],
      "text/plain": [
       "                    chocolate  fruity  caramel  peanutyalmondy  nougat  \\\n",
       "competitorname                                                           \n",
       "Nik L Nip                   0       1        0               0       0   \n",
       "Boston Baked Beans          0       0        0               1       0   \n",
       "Chiclets                    0       1        0               0       0   \n",
       "Super Bubble                0       1        0               0       0   \n",
       "Jawbusters                  0       1        0               0       0   \n",
       "Root Beer Barrels           0       0        0               0       0   \n",
       "Sugar Daddy                 0       0        1               0       0   \n",
       "Sugar Babies                0       0        1               0       0   \n",
       "Haribo Happy Cola           0       0        0               0       0   \n",
       "Caramel Apple Pops          0       1        1               0       0   \n",
       "\n",
       "                    crispedricewafer  hard  bar  pluribus  sugarpercent  \\\n",
       "competitorname                                                            \n",
       "Nik L Nip                          0     0    0         1         0.197   \n",
       "Boston Baked Beans                 0     0    0         1         0.313   \n",
       "Chiclets                           0     0    0         1         0.046   \n",
       "Super Bubble                       0     0    0         0         0.162   \n",
       "Jawbusters                         0     1    0         1         0.093   \n",
       "Root Beer Barrels                  0     1    0         1         0.732   \n",
       "Sugar Daddy                        0     0    0         0         0.418   \n",
       "Sugar Babies                       0     0    0         1         0.965   \n",
       "Haribo Happy Cola                  0     0    0         1         0.465   \n",
       "Caramel Apple Pops                 0     0    0         0         0.604   \n",
       "\n",
       "                    pricepercent  winpercent  \n",
       "competitorname                                \n",
       "Nik L Nip                  0.976   22.445341  \n",
       "Boston Baked Beans         0.511   23.417824  \n",
       "Chiclets                   0.325   24.524988  \n",
       "Super Bubble               0.116   27.303865  \n",
       "Jawbusters                 0.511   28.127439  \n",
       "Root Beer Barrels          0.069   29.703691  \n",
       "Sugar Daddy                0.325   32.230995  \n",
       "Sugar Babies               0.767   33.437550  \n",
       "Haribo Happy Cola          0.465   34.158958  \n",
       "Caramel Apple Pops         0.325   34.517681  "
      ]
     },
     "execution_count": 10,
     "metadata": {},
     "output_type": "execute_result"
    }
   ],
   "source": [
    "data.sort_values(\"winpercent\", ascending=True).head(10)"
   ]
  },
  {
   "cell_type": "markdown",
   "metadata": {},
   "source": [
    "### 1.6: Give a ranked list of ingredients (top occurences to lowest occurence)"
   ]
  },
  {
   "cell_type": "code",
   "execution_count": 11,
   "metadata": {},
   "outputs": [
    {
     "data": {
      "text/plain": [
       "fruity              38\n",
       "chocolate           37\n",
       "peanutyalmondy      14\n",
       "caramel             14\n",
       "crispedricewafer     7\n",
       "nougat               7\n",
       "dtype: int64"
      ]
     },
     "execution_count": 11,
     "metadata": {},
     "output_type": "execute_result"
    }
   ],
   "source": [
    "data[[\"chocolate\", \"fruity\", \"caramel\",\"peanutyalmondy\",\"nougat\",\"crispedricewafer\"]].sum(axis=0).sort_values(ascending=False).head(10)"
   ]
  },
  {
   "cell_type": "markdown",
   "metadata": {},
   "source": [
    "### 1.7: Create a pearson correlation matrix"
   ]
  },
  {
   "cell_type": "code",
   "execution_count": 12,
   "metadata": {},
   "outputs": [
    {
     "data": {
      "text/plain": [
       "<matplotlib.axes._subplots.AxesSubplot at 0x7fe4e5cc9668>"
      ]
     },
     "execution_count": 12,
     "metadata": {},
     "output_type": "execute_result"
    },
    {
     "data": {
      "image/png": "[encoded data removed]",
      "text/plain": [
       "<Figure size 1008x864 with 2 Axes>"
      ]
     },
     "metadata": {
      "needs_background": "light"
     },
     "output_type": "display_data"
    }
   ],
   "source": [
    "import seaborn as sns\n",
    "\n",
    "colormap = plt.cm.RdBu\n",
    "plt.figure(figsize=(14,12))\n",
    "plt.title('Pearson Correlation of Features', y=1.05, size=15)\n",
    "sns.heatmap(data.corr(),linewidths=0.1,vmax=1.0, \n",
    "            square=True, cmap=colormap, linecolor='white', annot=True)"
   ]
  },
  {
   "cell_type": "markdown",
   "metadata": {},
   "source": [
    "### 1.8: Choose a model to represent the relationship between ingredients and ```winpercent```\n",
    "\n",
    "We will use a simple linear model to predict the ```winpercent``` given the binary ingredient indicators.\n",
    "\n",
    "$$winpercent = \\sum_{ingredients}{\\theta_i \\cdot x_i}$$"
   ]
  },
  {
   "cell_type": "markdown",
   "metadata": {},
   "source": [
    "### 1.9: The client wants to know the most important ingredient. What recommendation do you give him?\n",
    "\n",
    "We will use the scikit-learn library to perform linear regression.\n",
    "\n",
    "You can use the ```yourmodel.coef_``` to obtain regression coefficients."
   ]
  },
  {
   "cell_type": "code",
   "execution_count": 13,
   "metadata": {},
   "outputs": [],
   "source": [
    "from sklearn.linear_model import LinearRegression"
   ]
  },
  {
   "cell_type": "code",
   "execution_count": 14,
   "metadata": {},
   "outputs": [],
   "source": [
    "X = data[[\"chocolate\", \"fruity\", \"caramel\",\"peanutyalmondy\",\"nougat\",\"crispedricewafer\"]]\n",
    "y = data[[\"winpercent\"]]"
   ]
  },
  {
   "cell_type": "code",
   "execution_count": 15,
   "metadata": {},
   "outputs": [],
   "source": [
    "model = LinearRegression(fit_intercept=False)\n",
    "model.fit(X, y)\n",
    "y_ = model.predict(X)"
   ]
  },
  {
   "cell_type": "code",
   "execution_count": 16,
   "metadata": {},
   "outputs": [
    {
     "name": "stdout",
     "output_type": "stream",
     "text": [
      "[[47.71567898 42.52245445 12.98122591 18.46506543  3.82128317 10.25332399]]\n"
     ]
    }
   ],
   "source": [
    "print(model.coef_)"
   ]
  },
  {
   "cell_type": "markdown",
   "metadata": {},
   "source": [
    "Chocolate seems to be contributing on average the most to the total win-percent!  \n",
    "We will recommend this to our client."
   ]
  },
  {
   "cell_type": "markdown",
   "metadata": {},
   "source": [
    "### 1.10: What's the most-likely winpercent of a franken-bar (contains all ingredients)?"
   ]
  },
  {
   "cell_type": "code",
   "execution_count": 17,
   "metadata": {},
   "outputs": [
    {
     "name": "stdout",
     "output_type": "stream",
     "text": [
      "Frankenbar winpercent 135.76\n"
     ]
    }
   ],
   "source": [
    "franken_bar = np.ones((1 ,6))\n",
    "print(\"Frankenbar winpercent %1.2f\"%model.predict(franken_bar))"
   ]
  },
  {
   "cell_type": "markdown",
   "metadata": {},
   "source": [
    "### 1.11: Is this Reasonable?\n",
    "\n",
    "Well clearly it is not. Aside from the fact that our model predicts a higher than 100 percent for a bar containing all ingredients. It is unlikely that simply stuffing all ingredients in one bar tastes good. For this we would need to also take into account the covariation of the ingredients to see which combinations are most popular."
   ]
  },
  {
   "cell_type": "markdown",
   "metadata": {},
   "source": [
    "----"
   ]
  },
  {
   "cell_type": "markdown",
   "metadata": {},
   "source": [
    "# Dimensionality Reduction - Principal Component Analysis (PCA)\n",
    "\n",
    "In the following exercise you will implement your own version of a principal component analysis:\n",
    "You will need to perform the followin steps and answer the following questions:\n",
    "## Task 2: Implementing your own PCA\n",
    "\n",
    "- 2.1: We've provided you a dataset $X_{raw}$ of noisy measurements. Matrix shape (N_data_points x p_features)\n",
    "- 2.2: Obtain the mean of the features and subtract to obtain a centered feature set $X$ Matrix shape (N_data_points x p_features)\n",
    "- 2.3: Compute the covariance $Cov$ of the features. Use numpy.cov to obtain the covariance matrix. Matrix Shape (p_features x p_features) \n",
    "- 2.4: Compute the eigenvalues and eigenvectors $V$ of the covariance matrix.\n",
    "- 2.5: Create a graph of the centered data with arrows pointing in the direction of the principal components\n",
    "- 2.6: Compute and plot the transformed data with all principal components $X_{pca}=XV$\n",
    "- 2.7: Keep only the largest eigenvector and reconstruct the data $X_{pca^{max}}=XVV^T$\n",
    "- 2.8: Compare your solution $X_{pca}$ to the output of using ```sklearn.decomposition.PCA```"
   ]
  },
  {
   "cell_type": "markdown",
   "metadata": {},
   "source": [
    "### 2.1 The noisy linear dataset $X_{raw}$ of noisy measurements."
   ]
  },
  {
   "cell_type": "code",
   "execution_count": 18,
   "metadata": {},
   "outputs": [
    {
     "name": "stdout",
     "output_type": "stream",
     "text": [
      "(100, 2)\n"
     ]
    }
   ],
   "source": [
    "np.random.seed(0)\n",
    "\n",
    "x = np.linspace(0, 1, 100)\n",
    "y_gt = np.pi+x\n",
    "y = y_gt + np.random.normal(0, 0.1, (100)) \n",
    "X_raw = np.stack([x, y], 1)\n",
    "print(X_raw.shape)"
   ]
  },
  {
   "cell_type": "code",
   "execution_count": 19,
   "metadata": {},
   "outputs": [
    {
     "data": {
      "text/plain": [
       "<matplotlib.collections.PathCollection at 0x7fe4d11a6860>"
      ]
     },
     "execution_count": 19,
     "metadata": {},
     "output_type": "execute_result"
    },
    {
     "data": {
      "image/png": "[encoded data removed]",
      "text/plain": [
       "<Figure size 864x864 with 1 Axes>"
      ]
     },
     "metadata": {
      "needs_background": "light"
     },
     "output_type": "display_data"
    }
   ],
   "source": [
    "fig, ax = plt.subplots(1, 1, figsize=(12, 12))\n",
    "ax.scatter(x, y)"
   ]
  },
  {
   "cell_type": "markdown",
   "metadata": {},
   "source": [
    "### 2.1: Obtain the mean of the features and subtract"
   ]
  },
  {
   "cell_type": "code",
   "execution_count": 20,
   "metadata": {},
   "outputs": [
    {
     "name": "stdout",
     "output_type": "stream",
     "text": [
      "(100, 2)\n"
     ]
    },
    {
     "data": {
      "text/plain": [
       "<matplotlib.collections.PathCollection at 0x7fe4d1101cf8>"
      ]
     },
     "execution_count": 20,
     "metadata": {},
     "output_type": "execute_result"
    },
    {
     "data": {
      "image/png": "[encoded data removed]",
      "text/plain": [
       "<Figure size 432x288 with 1 Axes>"
      ]
     },
     "metadata": {
      "needs_background": "light"
     },
     "output_type": "display_data"
    }
   ],
   "source": [
    "mean = np.mean(X_raw, 0)\n",
    "std = np.std(X_raw, 0)\n",
    "X = (X_raw-mean)/std\n",
    "print(X.shape)\n",
    "plt.scatter(X[:, 0], X[:, 1])"
   ]
  },
  {
   "cell_type": "markdown",
   "metadata": {},
   "source": [
    "### 2.2: Compute the covariance $Cov$ of the features."
   ]
  },
  {
   "cell_type": "code",
   "execution_count": 21,
   "metadata": {},
   "outputs": [
    {
     "name": "stdout",
     "output_type": "stream",
     "text": [
      "[[1.01010101 0.95191722]\n",
      " [0.95191722 1.01010101]]\n"
     ]
    }
   ],
   "source": [
    "C = np.dot(X.T, X)/(X.shape[0]-1)\n",
    "print(C)"
   ]
  },
  {
   "cell_type": "markdown",
   "metadata": {},
   "source": [
    "### 2.3: Compute the eigenvalues and eigenvectors $V$"
   ]
  },
  {
   "cell_type": "code",
   "execution_count": 22,
   "metadata": {},
   "outputs": [
    {
     "name": "stdout",
     "output_type": "stream",
     "text": [
      "[[ 0.70710678 -0.70710678]\n",
      " [ 0.70710678  0.70710678]]\n",
      "[1.96201823 0.05818379]\n"
     ]
    }
   ],
   "source": [
    "evals , evecs = np.linalg.eig(C)\n",
    "idx = np.argsort(evals)[::-1]\n",
    "evecs = evecs[:,idx]\n",
    "evals = evals[idx]\n",
    "print(evecs)\n",
    "print(evals)"
   ]
  },
  {
   "cell_type": "markdown",
   "metadata": {},
   "source": [
    "### 2.4: Create a graph of the centered data with arrows pointing in the direction of the principal components"
   ]
  },
  {
   "cell_type": "code",
   "execution_count": 23,
   "metadata": {
    "scrolled": false
   },
   "outputs": [
    {
     "data": {
      "text/plain": [
       "(-1, 1)"
      ]
     },
     "execution_count": 23,
     "metadata": {},
     "output_type": "execute_result"
    },
    {
     "data": {
      "image/png": "[encoded data removed]",
      "text/plain": [
       "<Figure size 864x864 with 1 Axes>"
      ]
     },
     "metadata": {
      "needs_background": "light"
     },
     "output_type": "display_data"
    }
   ],
   "source": [
    "fig, ax = plt.subplots(1, 1, figsize=(12, 12))\n",
    "width, head_width, head_length = 0.01, 0.05, 0.1\n",
    "arrow_scale = 1.0\n",
    "scale = arrow_scale*evals/np.sum(evals)\n",
    "\n",
    "for i, c in zip(range(2), [\"blue\", \"red\"]):\n",
    "    plt.arrow(0, 0, scale[i]*evecs[0, i], scale[i]*evecs[1, i], width=width, head_width=head_width, head_length=head_length, color=c)\n",
    "\n",
    "ax.scatter(X[:, 0], X[:, 1])\n",
    "ax.set_xlim(-1, 1)\n",
    "ax.set_ylim(-1, 1)"
   ]
  },
  {
   "cell_type": "markdown",
   "metadata": {},
   "source": [
    "### 2.5: Compute and plot the transformed data with all principal components $X_{pca}=XV$"
   ]
  },
  {
   "cell_type": "code",
   "execution_count": 24,
   "metadata": {
    "scrolled": true
   },
   "outputs": [
    {
     "name": "stdout",
     "output_type": "stream",
     "text": [
      "(100, 2)\n"
     ]
    },
    {
     "data": {
      "text/plain": [
       "<matplotlib.collections.PathCollection at 0x7fe4d10ab0f0>"
      ]
     },
     "execution_count": 24,
     "metadata": {},
     "output_type": "execute_result"
    },
    {
     "data": {
      "image/png": "[encoded data removed]",
      "text/plain": [
       "<Figure size 432x288 with 1 Axes>"
      ]
     },
     "metadata": {
      "needs_background": "light"
     },
     "output_type": "display_data"
    }
   ],
   "source": [
    "X_ = np.matmul(X, evecs)\n",
    "print(X_.shape)\n",
    "plt.scatter(X_[:, 0], X_[:, 1])"
   ]
  },
  {
   "cell_type": "markdown",
   "metadata": {},
   "source": [
    "### 2.6: Compare your solution $X_{pca}$ to the output of using ```sklearn.decomposition.PCA```"
   ]
  },
  {
   "cell_type": "code",
   "execution_count": 25,
   "metadata": {},
   "outputs": [],
   "source": [
    "from sklearn.decomposition import PCA"
   ]
  },
  {
   "cell_type": "code",
   "execution_count": 26,
   "metadata": {},
   "outputs": [
    {
     "name": "stdout",
     "output_type": "stream",
     "text": [
      "[[ 0.70710678  0.70710678]\n",
      " [ 0.70710678 -0.70710678]]\n",
      "[1.96201823 0.05818379]\n"
     ]
    },
    {
     "data": {
      "text/plain": [
       "<matplotlib.collections.PathCollection at 0x7fe4d0bbb5c0>"
      ]
     },
     "execution_count": 26,
     "metadata": {},
     "output_type": "execute_result"
    },
    {
     "data": {
      "image/png": "[encoded data removed]",
      "text/plain": [
       "<Figure size 864x432 with 2 Axes>"
      ]
     },
     "metadata": {
      "needs_background": "light"
     },
     "output_type": "display_data"
    }
   ],
   "source": [
    "pca_model = PCA()\n",
    "pca_model.fit(X)\n",
    "print(pca_model.components_)\n",
    "print(pca_model.explained_variance_)\n",
    "reduced_sk = pca_model.transform(X)\n",
    "\n",
    "fig, ax = plt.subplots(1, 2, figsize=(12, 6))\n",
    "ax[0].scatter(reduced_sk[:, 0], reduced_sk[:, 1])\n",
    "ax[1].scatter(X_[:, 0], X_[:, 1])\n"
   ]
  },
  {
   "cell_type": "markdown",
   "metadata": {},
   "source": [
    "## Task 3: PCA as a dimensionality reduction and exploratory data analysis tool (EDA)\n",
    "- 3.1: Load the breast cancer dataset ```from sklearn.datasets import load_breast_cancer```\n",
    "- 3.2: Create a two-component PCA projection using sklearn's PCA implementation and plot on a graph using ```plt.scatter```. Make the color equal to the binary set of classes.\n",
    "- 3.3: Is there a benefit of performing PCA here? What type of classifier would perform well on this dataset?\n",
    "- 3.3: Fit a linear classifier using ```sklearn.linear_model.SGDClassifier``` and prove your hypothesis using an accuracy score\n",
    "\n",
    "### 3.1: Load the breast cancer dataset ```from sklearn.datasets import load_breast_cancer```"
   ]
  },
  {
   "cell_type": "code",
   "execution_count": 27,
   "metadata": {},
   "outputs": [],
   "source": [
    "from sklearn.datasets import load_breast_cancer\n",
    "X, y = load_breast_cancer(return_X_y=True)"
   ]
  },
  {
   "cell_type": "markdown",
   "metadata": {},
   "source": [
    "### 3.2: Create a two-component PCA projection using sklearn's PCA implementation and plot on a graph using ```plt.scatter```. Make the color equal to the binary set of classes.\n"
   ]
  },
  {
   "cell_type": "code",
   "execution_count": 28,
   "metadata": {},
   "outputs": [
    {
     "data": {
      "text/plain": [
       "<matplotlib.collections.PathCollection at 0x7fe4d06340f0>"
      ]
     },
     "execution_count": 28,
     "metadata": {},
     "output_type": "execute_result"
    },
    {
     "data": {
      "image/png": "[encoded data removed]",
      "text/plain": [
       "<Figure size 432x288 with 1 Axes>"
      ]
     },
     "metadata": {
      "needs_background": "light"
     },
     "output_type": "display_data"
    }
   ],
   "source": [
    "X_pca = PCA(n_components=2).fit_transform(X)\n",
    "plt.scatter(X_pca[:, 0], X_pca[:, 1], c=y)"
   ]
  },
  {
   "cell_type": "markdown",
   "metadata": {},
   "source": [
    "###  3.3:  Is there a benefit of performing PCA here? What type of classifier would perform well on this dataset?\n",
    "It looks like a simple linear model would perform quite well at seperating the two classes!"
   ]
  },
  {
   "cell_type": "markdown",
   "metadata": {},
   "source": [
    "### 3.4: Fit a linear classifier using ```sklearn.linear_model.SGDClassifier``` and prove your hypothesis using an accuracy score"
   ]
  },
  {
   "cell_type": "code",
   "execution_count": 29,
   "metadata": {},
   "outputs": [
    {
     "name": "stdout",
     "output_type": "stream",
     "text": [
      "[0 0 0 1 0 1 0 1 1 1 0 0 0 0 1 0 0 0 0 1 1 1 0 0 0 0 0 0 0 0 0 1 0 0 0 0 1\n",
      " 1 1 1 1 1 0 1 1 0 1 1 1 1 1 1 1 0 0 1 0 0 1 1 1 1 0 1 1 0 1 1 1 1 0 1 0 1\n",
      " 1 0 1 0 0 1 1 1 0 0 1 0 1 0 1 1 1 1 1 1 0 0 1 1 1 1 0 1 1 1 1 1 1 1 0 1 1\n",
      " 1 1 1 1 1 1 0 0 0 1 0 0 1 1 1 1 0 1 0 1 0 0 0 0 1 1 1 0 1 1 0 1 1 1 1 1 1\n",
      " 1 1 1 1 1 1 1 1 0 0 1 1 1 0 0 1 0 1 1 0 0 1 1 0 0 1 1 1 1 0 1 1 0 0 0 1 0\n",
      " 1 0 1 1 1 1 1 1 1 1 1 1 0 0 0 1 0 0 0 1 0 1 0 1 0 0 1 0 0 1 1 1 1 0 0 1 1\n",
      " 1 0 1 1 1 1 1 1 0 1 1 0 1 1 0 0 1 0 1 1 1 1 0 1 1 1 1 1 0 1 0 0 0 1 0 0 0\n",
      " 0 0 0 0 0 0 0 1 1 1 1 1 1 0 1 0 1 1 0 1 1 0 1 0 0 1 1 1 1 1 1 1 1 1 1 1 1\n",
      " 1 1 1 1 0 1 0 1 1 1 1 1 1 1 1 1 1 1 1 1 1 0 1 1 1 0 1 0 1 1 1 1 0 0 0 1 1\n",
      " 1 1 0 1 0 1 0 1 1 1 0 1 1 1 0 1 1 1 0 0 0 1 1 1 1 1 1 1 1 1 0 1 0 0 1 0 0\n",
      " 0 1 0 0 1 0 1 1 1 1 1 1 1 1 1 1 1 1 1 0 1 1 0 0 1 1 1 1 1 1 0 1 1 1 1 1 0\n",
      " 1 0 1 1 1 1 1 0 1 1 0 1 1 1 1 1 1 1 1 1 1 1 1 1 1 0 0 1 1 1 1 1 1 1 0 1 1\n",
      " 0 1 0 1 1 0 1 0 1 1 1 1 1 1 1 1 0 0 1 1 1 1 1 1 0 1 1 1 0 1 1 1 1 1 1 0 1\n",
      " 1 1 1 1 1 1 0 1 0 1 0 0 1 1 1 1 1 0 0 1 1 1 0 1 1 1 1 0 0 1 1 1 1 0 1 0 0\n",
      " 1 1 1 0 1 1 1 1 1 1 1 1 1 1 1 0 1 0 1 1 1 1 1 1 1 1 1 1 1 1 1 1 1 1 1 1 1\n",
      " 1 1 1 1 1 1 1 0 0 0 0 0 0 1]\n",
      "Accuracy: 91.2 percent\n"
     ]
    },
    {
     "name": "stderr",
     "output_type": "stream",
     "text": [
      "/home/lm715/anaconda2/envs/dlenv/lib/python3.6/site-packages/sklearn/linear_model/stochastic_gradient.py:166: FutureWarning: max_iter and tol parameters have been added in SGDClassifier in 0.19. If both are left unset, they default to max_iter=5 and tol=None. If tol is not None, max_iter defaults to max_iter=1000. From 0.21, default max_iter will be 1000, and default tol will be 1e-3.\n",
      "  FutureWarning)\n"
     ]
    }
   ],
   "source": [
    "from sklearn.linear_model import SGDClassifier\n",
    "from sklearn.metrics import accuracy_score\n",
    "\n",
    "clf = SGDClassifier()\n",
    "clf.fit(X_pca, y)\n",
    "\n",
    "y_pred = clf.predict(X_pca)\n",
    "print(y_pred)\n",
    "print(\"Accuracy: %2.1f percent\" % (accuracy_score(y, y_pred)*100))"
   ]
  },
  {
   "cell_type": "markdown",
   "metadata": {},
   "source": [
    "---"
   ]
  },
  {
   "cell_type": "markdown",
   "metadata": {},
   "source": [
    "## Task 4: K-Means Clustering Exercise"
   ]
  },
  {
   "cell_type": "markdown",
   "metadata": {},
   "source": [
    "### 4.1: Fit k-Means clusters to the PCA'd cancer dataset and plot the resulting clusters and their centers\n",
    "Careful k-Means doesn't care about your labels therefore you may need to \"flip\" your labels to get reasonable predictions."
   ]
  },
  {
   "cell_type": "code",
   "execution_count": 30,
   "metadata": {},
   "outputs": [
    {
     "name": "stdout",
     "output_type": "stream",
     "text": [
      "[[-3.06510219e+02 -4.74773896e-01]\n",
      " [ 1.02482043e+03  1.58741196e+00]]\n",
      "Accuracy: 85.4 percent\n"
     ]
    }
   ],
   "source": [
    "from sklearn.preprocessing import StandardScaler\n",
    "from sklearn.cluster import KMeans\n",
    "clf = KMeans(n_clusters=2, random_state=13)\n",
    "clf.fit(X_pca)\n",
    "print(clf.cluster_centers_)\n",
    "y_pred = 1-clf.fit_predict(X_pca, y)\n",
    "print(\"Accuracy: %2.1f percent\" % (accuracy_score(y, y_pred)*100))"
   ]
  },
  {
   "cell_type": "code",
   "execution_count": 31,
   "metadata": {},
   "outputs": [
    {
     "data": {
      "text/plain": [
       "<matplotlib.collections.PathCollection at 0x7fe4ce691748>"
      ]
     },
     "execution_count": 31,
     "metadata": {},
     "output_type": "execute_result"
    },
    {
     "data": {
      "image/png": "[encoded data removed]",
      "text/plain": [
       "<Figure size 864x432 with 2 Axes>"
      ]
     },
     "metadata": {
      "needs_background": "light"
     },
     "output_type": "display_data"
    }
   ],
   "source": [
    "fig, ax = plt.subplots(1, 2, figsize=(12, 6))\n",
    "ax[0].scatter(X_pca[:, 0], X_pca[:, 1], c=y)\n",
    "ax[1].scatter(X_pca[:, 0], X_pca[:, 1], c=y_pred)\n",
    "ax[1].scatter(clf.cluster_centers_[:, 0], clf.cluster_centers_[:, 1], c=\"red\")"
   ]
  },
  {
   "cell_type": "markdown",
   "metadata": {},
   "source": [
    "---"
   ]
  },
  {
   "cell_type": "markdown",
   "metadata": {},
   "source": [
    "## Task 5: Logistic Regression Exercise\n",
    "In the following exercise we will use LogisticRegression as a simple \"black-box\" model\n",
    "to outperform our previous classifiers, the linear classifier and the k-Means classifier.\n",
    "\n",
    "Our baseline classifier - the k-Means algorithm performed at 85%. Let's see if we can improve on that.\n",
    "To do so we will use sklearn's ```sklearn.linear_model.LogisticRegression``` class.\n",
    "\n",
    "- 5.1: Import the logistic regression module and the ```sklearn.model_selection.StratifiedShuffleSplit``` class\n",
    "- 5.2: Create a new logistic regression classifier and overfit to the whole dataset with default values. How good does this model perform on the training set?\n",
    "- 5.3: Use the ```StratifiedShuffleSplit``` to create a 50/50 train test split.\n",
    "- 5.4: For the given split evaluate the impact of the regularization strength factor C:\n",
    "    - Choose values of C on a log10 scale \\[0.001, 0.01, ..., 10\\]\n",
    "    - For each value of C perform the following task and evaluate the accuracy on train and test sets\n",
    "        1. Scale the data using ```StandardScaler```\n",
    "        2. Fit a logistic regression classifier to the training data\n",
    "        3. Evaluate the accuracy on the training set\n",
    "        4. Evaluate the accuracy on the test set\n",
    "        5. Store both accuracies in an array\n",
    "    - Plot regularization strength vs. Test and Train Accuracy on a log scale. Which factor of C do you choose?\n",
    "    - Can you identify Bias vs. Variance?\n",
    "    "
   ]
  },
  {
   "cell_type": "markdown",
   "metadata": {},
   "source": [
    "### 5.1: Import the logistic regression module and the sklearn.model_selection.StratifiedShuffleSplit class"
   ]
  },
  {
   "cell_type": "code",
   "execution_count": 32,
   "metadata": {},
   "outputs": [],
   "source": [
    "from sklearn.linear_model import LogisticRegression\n",
    "from sklearn.model_selection import StratifiedShuffleSplit"
   ]
  },
  {
   "cell_type": "markdown",
   "metadata": {},
   "source": [
    "### 5.2: Create a new logistic regression classifier and overfit to the whole dataset"
   ]
  },
  {
   "cell_type": "code",
   "execution_count": 33,
   "metadata": {},
   "outputs": [
    {
     "name": "stdout",
     "output_type": "stream",
     "text": [
      "Accuracy: 98.8 percent\n"
     ]
    },
    {
     "name": "stderr",
     "output_type": "stream",
     "text": [
      "/home/lm715/anaconda2/envs/dlenv/lib/python3.6/site-packages/sklearn/linear_model/logistic.py:433: FutureWarning: Default solver will be changed to 'lbfgs' in 0.22. Specify a solver to silence this warning.\n",
      "  FutureWarning)\n"
     ]
    }
   ],
   "source": [
    "X_pre = StandardScaler().fit_transform(X)\n",
    "clf = LogisticRegression()\n",
    "clf.fit(X_pre, y)\n",
    "y_pred = clf.predict(X_pre)\n",
    "print(\"Accuracy: %2.1f percent\" % (accuracy_score(y, y_pred)*100))"
   ]
  },
  {
   "cell_type": "markdown",
   "metadata": {},
   "source": [
    "### 5.3: Use the StratifiedShuffleSplit to create a 50/50 train test split."
   ]
  },
  {
   "cell_type": "code",
   "execution_count": 34,
   "metadata": {},
   "outputs": [],
   "source": [
    "indices = StratifiedShuffleSplit(test_size=0.5, random_state=0).split(X, y)\n",
    "train_index, test_index = list(indices)[0]\n",
    "X_train, X_test = X[train_index], X[test_index]\n",
    "y_train, y_test = y[train_index], y[test_index]"
   ]
  },
  {
   "cell_type": "markdown",
   "metadata": {},
   "source": [
    "### 5.4: For the given split evaluate the impact of the regularization strength factor C"
   ]
  },
  {
   "cell_type": "code",
   "execution_count": 35,
   "metadata": {},
   "outputs": [
    {
     "name": "stdout",
     "output_type": "stream",
     "text": [
      "Regularization Strength:  0.001  Train Accuracy: 86.6 percent  Val. Accuracy: 86.3 percent\n",
      "Regularization Strength:  0.01  Train Accuracy: 95.1 percent  Val. Accuracy: 94.7 percent\n",
      "Regularization Strength:  0.1  Train Accuracy: 97.9 percent  Val. Accuracy: 97.5 percent\n",
      "Regularization Strength:  1.0  Train Accuracy: 98.9 percent  Val. Accuracy: 97.9 percent\n",
      "Regularization Strength:  10  Train Accuracy: 98.9 percent  Val. Accuracy: 96.8 percent\n"
     ]
    }
   ],
   "source": [
    "Cs = [0.001, 0.01, 0.1, 1., 10] #Range of C to evaluate\n",
    "\n",
    "train_test_accs = []\n",
    "for C in Cs:\n",
    "    scaler = StandardScaler().fit(X_train) #Fit and instantiate our Standard scaler: data has now 0 mean and 1 variance\n",
    "    X_train_pre = scaler.transform(X_train) #Transform our training split\n",
    "\n",
    "    clf = LogisticRegression(C=C, solver=\"lbfgs\") #Create a LogisticRegression object from sklearn\n",
    "    clf.fit(X_train_pre, y_train) #Fit the classifier\n",
    "    y_train_ = clf.predict(X_train_pre) #Predict on the training set\n",
    "    \n",
    "    X_test_pre = scaler.transform(X_test) #Transform the test set\n",
    "    y_test_ = clf.predict(X_test_pre) #Predict on the test set\n",
    "    \n",
    "    #Use accuracy_score to get accuracy\n",
    "    train_acc, test_acc = accuracy_score(y_train, y_train_)*100, accuracy_score(y_test, y_test_)*100\n",
    "    train_test_accs.append([train_acc, test_acc])\n",
    "    \n",
    "    print(\"Regularization Strength: \", C, \n",
    "          \" Train Accuracy: %2.1f percent\" % train_acc,  \n",
    "          \" Val. Accuracy: %2.1f percent\" % test_acc)\n",
    "train_test_accs = np.array(train_test_accs)"
   ]
  },
  {
   "cell_type": "markdown",
   "metadata": {},
   "source": [
    "### 5.4: Plot regularization strength vs. Test and Train Accuracy on a log scale. Which factor of C do you choose?"
   ]
  },
  {
   "cell_type": "code",
   "execution_count": 37,
   "metadata": {},
   "outputs": [
    {
     "data": {
      "text/plain": [
       "Text(0.5, 0, 'C = Inverse of Regularization Strength')"
      ]
     },
     "execution_count": 37,
     "metadata": {},
     "output_type": "execute_result"
    },
    {
     "data": {
      "image/png": "[encoded data removed]",
      "text/plain": [
       "<Figure size 864x864 with 1 Axes>"
      ]
     },
     "metadata": {
      "needs_background": "light"
     },
     "output_type": "display_data"
    }
   ],
   "source": [
    "fig, ax = plt.subplots(1, 1, figsize=(12, 12))\n",
    "ax.plot(Cs, train_test_accs[:, 0])\n",
    "ax.plot(Cs, train_test_accs[:, 1])\n",
    "ax.set_xscale(\"log\")\n",
    "ax.set_ylabel(\"Accuracy\")\n",
    "ax.set_xlabel(\"C = Inverse of Regularization Strength\")"
   ]
  },
  {
   "cell_type": "markdown",
   "metadata": {},
   "source": [
    "I would choose a value of C=1 as it leads to the highest overall accuracy on the _test set_."
   ]
  },
  {
   "cell_type": "markdown",
   "metadata": {},
   "source": [
    "### 5.4: Can you identify Bias vs. Variance?\n",
    "Small values of the regularization strength factor C lead to bias which can be seen as the model underfits to the data.   \n",
    "Whereas high values lead to a decrease in the accuracy on the test set i.e. the model is overfit - variance."
   ]
  },
  {
   "cell_type": "code",
   "execution_count": null,
   "metadata": {},
   "outputs": [],
   "source": []
  }
 ],
 "metadata": {
  "kernelspec": {
   "display_name": "Python [conda env:dlenv]",
   "language": "python",
   "name": "conda-env-dlenv-py"
  },
  "language_info": {
   "codemirror_mode": {
    "name": "ipython",
    "version": 3
   },
   "file_extension": ".py",
   "mimetype": "text/x-python",
   "name": "python",
   "nbconvert_exporter": "python",
   "pygments_lexer": "ipython3",
   "version": "3.6.5"
  }
 },
 "nbformat": 4,
 "nbformat_minor": 2
}
